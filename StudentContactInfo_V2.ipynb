{
 "cells": [
  {
   "cell_type": "code",
   "execution_count": null,
   "id": "c53ef5d8",
   "metadata": {},
   "outputs": [],
   "source": [
    "import pandas as pd\n",
    "import numpy as np\n",
    "from io import StringIO"
   ]
  },
  {
   "cell_type": "markdown",
   "id": "baaaa521",
   "metadata": {},
   "source": [
    "<H4>\n",
    "Files imported: /data/PowerSchoolSFTP/Students_export.csv, /data/PowerSchoolSFTP/ContactsPowerQuery.csv <br>\n",
    "File exported: StudentContactInfo.csv <br>\n",
    "<br>\n",
    "Product is the necessary Student & Parent/Guardian contact info the eIEPPROStudentDemographics.csv requires"
   ]
  },
  {
   "cell_type": "markdown",
   "id": "3593d32e",
   "metadata": {},
   "source": [
    "The plan: <br>\n",
    " * get the contact fields (using custody flag) per student <br>\n",
    " * put in order of student id (new index) <br> \n",
    " * pick first mother, father, guardian contacts <br> \n",
    " * flush out required fields and transpose <br>\n",
    " * join them with the \"Active Child Find\" students from the other file <br>\n",
    "<br>\n",
    "Key = Student Number, STUDENTS.Student_Number from Students_exp <br>"
   ]
  },
  {
   "cell_type": "markdown",
   "id": "218bedc0",
   "metadata": {},
   "source": [
    "Spec for - concentrating on Parents in this file \n",
    "\n",
    "| Data Value | e-IEPPRO Column Name | Details | \n",
    "| --- |--- |--- |\n",
    "| Parent #1 Name              | Parent1Name         | --- |\n",
    "| Parent #1 Address-1         | Parent1Address1     | Street Address |\n",
    "| Parent #1 Address-2         | Parent1Address2     | City, State and Zip Code |  \n",
    "| Parent #1 Home Phone        | Parent1HomePhone    | --- |\n",
    "| Parent #1 Work Phone        | Parent1WorkPhone    | --- |\n",
    "| Parent #1 Cell Phone        | Parent1CellPhone    | --- |\n",
    "| Parent #1 Relationship      | Parent1Relationship | --- |\n",
    "| Parent #1 Email             | Parent1Email        | --- |\n",
    "| Parent #2 Name              | Parent2Name         | --- |\n",
    "| Parent #2 Address-1         | Parent2Address1     | Street Address |\n",
    "| Parent #2 Address-2         | Parent2Address2     | City, State and Zip Code |  \n",
    "| Parent #2 Home Phone        | Parent2HomePhone    | --- |\n",
    "| Parent #2 Work Phone        | Parent2WorkPhone    | --- |\n",
    "| Parent #2 Cell Phone        | Parent2CellPhone    | --- |\n",
    "| Parent #2 Relationship      | Parent2Relationship | --- |\n",
    "| Parent #2 Email             | Parent2Email        | --- |\n",
    "\n",
    "| --- |--- |--- |\n",
    "| --- |--- |--- |"
   ]
  },
  {
   "cell_type": "code",
   "execution_count": null,
   "id": "b0c237d1",
   "metadata": {},
   "outputs": [],
   "source": [
    "# StudentAddress  = pd.read_csv(\"Students_export.csv\", encoding='latin-1') \n",
    "StudentContacts = pd.read_csv(\"ContactsPowerQuery.csv\", encoding='latin-1')"
   ]
  },
  {
   "cell_type": "code",
   "execution_count": null,
   "id": "b2e2d9e2",
   "metadata": {},
   "outputs": [],
   "source": [
    "# Contacts for _ALL_ students in PS\n",
    "StudentContacts"
   ]
  },
  {
   "cell_type": "code",
   "execution_count": null,
   "id": "2a76ae0b",
   "metadata": {},
   "outputs": [],
   "source": [
    "StudentContacts.info()"
   ]
  },
  {
   "cell_type": "code",
   "execution_count": null,
   "id": "5edf7b92",
   "metadata": {},
   "outputs": [],
   "source": [
    "def BuildParentContacts( df_ContactsPQ ):\n",
    "    global df_PContacts\n",
    "    df_PContacts = pd.DataFrame()\n",
    "    \"\"\" Create a counter for each student ID \"\"\"\n",
    "    for index, row in df_ContactsPQ.iterrows():\n",
    "        parent_id = row['Contact ID']\n",
    "        student_ID = row['Student Number']\n",
    "        relationship = row['Relationship'] \n",
    "        ParentName = row['Contact First Name'] + ' ' + row['Contact Last Name']\n",
    "        PhoneNum = row['Phone Number']\n",
    "        \n",
    "        df_PContacts.at[index, 'student_ID'] = student_ID\n",
    "        \n",
    "        match relationship:\n",
    "            case 'Mother':\n",
    "                df_PContacts.at[index, 'Mother'] = parent_id\n",
    "                df_PContacts.at[index, 'Parent1Name'] = ParentName\n",
    "            case 'Father':\n",
    "                df_PContacts.at[index, 'Father'] = parent_id\n",
    "                df_PContacts.at[index, 'Parent2Name'] = ParentName\n",
    "            case 'Guardian':\n",
    "                df_PContacts.at[index, 'Guardian'] = parent_id \n",
    "                df_PContacts.at[index, 'GuardianName'] = ParentName\n",
    "    return df_PContacts"
   ]
  },
  {
   "cell_type": "code",
   "execution_count": null,
   "id": "a6f580a7",
   "metadata": {},
   "outputs": [],
   "source": [
    "# Fields e-IEPPRO wants are Parent# Name, Address, Home Phone, Work Phone, Cell Phone, Relationship, Email\n",
    "# Fields the ContactsQuery offers are: Name, \"Phone Number\", Relationship, Email Address\n",
    "\n",
    "def BuildParentContactsV2( df_ContactsPQ ):\n",
    "    global df_PContacts\n",
    "    df_PContacts = pd.DataFrame()\n",
    "    \"\"\" Create a counter for each student ID \"\"\"\n",
    "    for index, row in df_ContactsPQ.iterrows():\n",
    "        parent_id = row['Contact ID']\n",
    "        student_ID = row['Student Number']\n",
    "        relationship = row['Relationship'] \n",
    "        ParentName = row['Contact First Name'] + ' ' + row['Contact Last Name']\n",
    "        ParentPhone = row['Phone Number']\n",
    "        ParentEmail = row['Email Address']\n",
    "        \n",
    "        df_PContacts.at[index, 'student_ID'] = student_ID\n",
    "        \n",
    "        match relationship:\n",
    "            case 'Mother':\n",
    "                df_PContacts.at[index, 'Mother'] = parent_id\n",
    "                df_PContacts.at[index, 'Parent1Name'] = ParentName\n",
    "                df_PContacts.at[index, 'Parent1CellPhone'] = ParentPhone\n",
    "                df_PContacts.at[index, 'Parent1Email'] = ParentEmail\n",
    "            case 'Father':\n",
    "                df_PContacts.at[index, 'Father'] = parent_id\n",
    "                df_PContacts.at[index, 'Parent2Name'] = ParentName\n",
    "                df_PContacts.at[index, 'Parent2CellPhone'] = ParentPhone\n",
    "                df_PContacts.at[index, 'Parent2Email'] = ParentEmail\n",
    "            case 'Guardian':\n",
    "                df_PContacts.at[index, 'Guardian'] = parent_id  \n",
    "                df_PContacts.at[index, 'GuardianName'] = ParentName\n",
    "                df_PContacts.at[index, 'GuardianCellPhone'] = ParentPhone\n",
    "                df_PContacts.at[index, 'GuardianEmail'] = ParentEmail\n",
    "    return df_PContacts"
   ]
  },
  {
   "cell_type": "code",
   "execution_count": null,
   "id": "2589ad1e",
   "metadata": {},
   "outputs": [],
   "source": [
    "# Runs in ~ 9 minutes 27 seconds minutes on my local computer\n",
    "# Takes all Contacts and creates ~100,364 rows\n",
    "# Efficiency measure: pull 504Idea community first?\n",
    "TestContacts = BuildParentContactsV2(StudentContacts)"
   ]
  },
  {
   "cell_type": "code",
   "execution_count": null,
   "id": "c5a87424",
   "metadata": {},
   "outputs": [],
   "source": [
    "TestContacts"
   ]
  },
  {
   "cell_type": "code",
   "execution_count": null,
   "id": "90262acc",
   "metadata": {},
   "outputs": [],
   "source": [
    "TestContacts.to_csv('TestContacts.csv', encoding='utf-8')"
   ]
  },
  {
   "cell_type": "code",
   "execution_count": null,
   "id": "75b113d1",
   "metadata": {},
   "outputs": [],
   "source": [
    "df_StudentContactsToWrite = TestContacts.groupby('student_ID').agg('first')"
   ]
  },
  {
   "cell_type": "code",
   "execution_count": null,
   "id": "0619b5a7",
   "metadata": {},
   "outputs": [],
   "source": [
    "#  Down to 21,522 rows now (approx our AZ student body, we needed this data, regardless)\n",
    "df_StudentContactsToWrite"
   ]
  },
  {
   "cell_type": "code",
   "execution_count": null,
   "id": "01979b60",
   "metadata": {},
   "outputs": [],
   "source": [
    "df_StudentContactsToWrite.to_csv('StudentContactsBeta.csv', encoding='utf-8')"
   ]
  },
  {
   "cell_type": "markdown",
   "id": "9ef7446e",
   "metadata": {},
   "source": [
    "<H2> The join below results in 4,207 students and parent contacts matched"
   ]
  },
  {
   "cell_type": "code",
   "execution_count": null,
   "id": "61448dcf",
   "metadata": {},
   "outputs": [],
   "source": [
    "df_504_ID_Contacts = df_StudentInfo_504_idea.join(df_CustConStuNum, on='Student Number').drop_duplicates()"
   ]
  },
  {
   "cell_type": "code",
   "execution_count": null,
   "id": "6d65932c",
   "metadata": {},
   "outputs": [],
   "source": [
    "df_504_ID_Contacts"
   ]
  },
  {
   "cell_type": "code",
   "execution_count": null,
   "id": "322ba18b",
   "metadata": {},
   "outputs": [],
   "source": [
    "df_504_ID_Contacts.info()"
   ]
  },
  {
   "cell_type": "code",
   "execution_count": null,
   "id": "449e47ad",
   "metadata": {},
   "outputs": [],
   "source": [
    "df_504_ID_Contacts"
   ]
  },
  {
   "cell_type": "code",
   "execution_count": null,
   "id": "e5b82071",
   "metadata": {},
   "outputs": [],
   "source": [
    "# Results in 4,207 Contacts - some students have one, some three, mostly two\n",
    "df_504_ID_Contacts.to_csv('eIEPPRO_Contacts.csv', encoding='utf-8')"
   ]
  },
  {
   "cell_type": "markdown",
   "id": "1da0b578",
   "metadata": {},
   "source": [
    "<H1> Break here"
   ]
  },
  {
   "cell_type": "code",
   "execution_count": null,
   "id": "0ef1315a",
   "metadata": {},
   "outputs": [],
   "source": [
    "# Next up, answer questions:\n",
    "# Who is not in 504_idea that is in this file?\n",
    "# who is in 504_idea that is not in this file?\n",
    "# Let's start with reorganizing the file for student name visibility"
   ]
  },
  {
   "cell_type": "code",
   "execution_count": null,
   "id": "76574d04",
   "metadata": {},
   "outputs": [],
   "source": [
    "df_StudentInfo_504_idea.info()"
   ]
  },
  {
   "cell_type": "code",
   "execution_count": null,
   "id": "68d343c0",
   "metadata": {},
   "outputs": [],
   "source": [
    "list_504_and_idea = df_StudentInfo_504_idea['Student Number'].reset_index(drop=True)"
   ]
  },
  {
   "cell_type": "code",
   "execution_count": null,
   "id": "4dd378be",
   "metadata": {},
   "outputs": [],
   "source": [
    "list_504_and_idea"
   ]
  },
  {
   "cell_type": "code",
   "execution_count": null,
   "id": "a2e558b2",
   "metadata": {},
   "outputs": [],
   "source": [
    "df_CustodyContacts['ParentName'] =  df_CustodyContacts['Contact Last Name'].map(str) + \", \" + df_CustodyContacts['Contact First Name'].map(str)"
   ]
  },
  {
   "cell_type": "markdown",
   "id": "11ecfae3",
   "metadata": {},
   "source": [
    "Need to determine \"Two Best\" contacts\n",
    "\n",
    "| Data Value | e-IEPPRO Column Name | Details | \n",
    "| --- |--- |--- |\n",
    "| Student Address #1          | StudentAddress1     | Powerschool STUDENTS.Street ~ Street Address |\n",
    "| Student Address #2          | StudentAddress2     | City, State and Zip Code |\n",
    "| Student Physical Address    | StudentPhyAddress   | --- |  \n",
    "| Student Phone #             | StudentPhone        | --- |\n",
    "| Student E-Mail              | StudentEmail        | --- |\n",
    "| Parent #1 Name              | Parent1Name         | --- |\n",
    "| Parent #1 Address-1         | Parent1Address1     | Street Address |\n",
    "| Parent #1 Address-2         | Parent1Address2     | City, State and Zip Code |  \n",
    "| Parent #1 Home Phone        | Parent1HomePhone    | --- |\n",
    "| Parent #1 Work Phone        | Parent1WorkPhone    | --- |\n",
    "| Parent #1 Cell Phone        | Parent1CellPhone    | --- |\n",
    "| Parent #1 Relationship      | Parent1Relationship | --- |\n",
    "| Parent #1 Email             | Parent1Email        | --- |\n",
    "| Parent #2 Name              | Parent2Name         | --- |\n",
    "| Parent #2 Address-1         | Parent2Address1     | Street Address |\n",
    "| Parent #2 Address-2         | Parent2Address2     | City, State and Zip Code |  \n",
    "| Parent #2 Home Phone        | Parent2HomePhone    | --- |\n",
    "| Parent #2 Work Phone        | Parent2WorkPhone    | --- |\n",
    "| Parent #2 Cell Phone        | Parent2CellPhone    | --- |\n",
    "| Parent #2 Relationship      | Parent2Relationship | --- |\n",
    "| Parent #2 Email             | Parent2Email        | --- |\n",
    "\n",
    "| --- |--- |--- |"
   ]
  },
  {
   "cell_type": "code",
   "execution_count": null,
   "id": "72d2de92",
   "metadata": {},
   "outputs": [],
   "source": [
    "df_ContactsPivot = df_CustodyContacts.copy()"
   ]
  },
  {
   "cell_type": "code",
   "execution_count": null,
   "id": "4b7eb57f",
   "metadata": {},
   "outputs": [],
   "source": [
    "df_ContactsPivot.info()"
   ]
  },
  {
   "cell_type": "code",
   "execution_count": null,
   "id": "ab900ce0",
   "metadata": {},
   "outputs": [],
   "source": [
    "df_ContactsbyStudentNum = df_ContactsPivot[['Student Number', 'Student LastFirst', 'Contact ID', 'ParentName', 'Relationship', \n",
    "                                           'Email Address', 'Phone Number']].drop_duplicates().reset_index(drop=True)"
   ]
  },
  {
   "cell_type": "code",
   "execution_count": null,
   "id": "5c66402f",
   "metadata": {},
   "outputs": [],
   "source": [
    "df_ContactsbyStudentNum"
   ]
  },
  {
   "cell_type": "code",
   "execution_count": null,
   "id": "1383deca",
   "metadata": {},
   "outputs": [],
   "source": [
    "df_ContactsbyStudentNum.to_csv('df_ContactsbyStudentNum.csv', encoding='utf-8')"
   ]
  },
  {
   "cell_type": "code",
   "execution_count": null,
   "id": "4b1c9532",
   "metadata": {},
   "outputs": [],
   "source": [
    "df_ContactsbyStudentNum['Student Number'].value_counts()"
   ]
  },
  {
   "cell_type": "code",
   "execution_count": null,
   "id": "018518e1",
   "metadata": {},
   "outputs": [],
   "source": [
    "df_ContactsPivot.pivot(index='Student Number', columns= ['Contact First Name', 'Contact Last Name'], values = ['Contact First Name', 'Contact Last Name'])"
   ]
  }
 ],
 "metadata": {
  "kernelspec": {
   "display_name": "Python 3 (ipykernel)",
   "language": "python",
   "name": "python3"
  },
  "language_info": {
   "codemirror_mode": {
    "name": "ipython",
    "version": 3
   },
   "file_extension": ".py",
   "mimetype": "text/x-python",
   "name": "python",
   "nbconvert_exporter": "python",
   "pygments_lexer": "ipython3",
   "version": "3.10.5"
  }
 },
 "nbformat": 4,
 "nbformat_minor": 5
}
