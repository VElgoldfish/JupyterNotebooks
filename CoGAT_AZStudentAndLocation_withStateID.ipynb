{
 "cells": [
  {
   "cell_type": "code",
   "execution_count": null,
   "id": "e2fc910c",
   "metadata": {},
   "outputs": [],
   "source": [
    "import pandas as pd\n",
    "import numpy as np\n",
    "from io import StringIO"
   ]
  },
  {
   "cell_type": "markdown",
   "id": "bb37a73b",
   "metadata": {},
   "source": [
    "<H4> Files needed: <br>\n",
    "    * Students_export.csv <br>\n",
    "    * Schools_export.csv\n",
    "    "
   ]
  },
  {
   "cell_type": "code",
   "execution_count": null,
   "id": "bc570937",
   "metadata": {},
   "outputs": [],
   "source": [
    "AZStudents = pd.read_csv(\"Students_export.csv\", encoding='latin-1')"
   ]
  },
  {
   "cell_type": "code",
   "execution_count": null,
   "id": "2b992344",
   "metadata": {},
   "outputs": [],
   "source": [
    "AZ_FocusedColumns = AZStudents.filter(['STUDENTS.SchoolID', 'STUDENTS.State_StudentNumber', 'STUDENTS.Student_Number', 'STUDENTS.Last_Name', 'STUDENTS.First_Name', 'STUDENTS.Middle_Name', 'STUDENTS.Grade_Level', 'STUDENTS.DOB', \n",
    "                                       'STUDENTS.Home_Room', 'STUDENTS.Gender'])"
   ]
  },
  {
   "cell_type": "code",
   "execution_count": null,
   "id": "e67d46cf",
   "metadata": {},
   "outputs": [],
   "source": [
    "AZ_FocusedColumns"
   ]
  },
  {
   "cell_type": "code",
   "execution_count": null,
   "id": "b17fe0e9",
   "metadata": {},
   "outputs": [],
   "source": [
    "transform_schoolID = {\n",
    "    100:'Maricopa',\n",
    "    150: 'Casa Grande',\n",
    "    200: 'Queen Creek',\n",
    "    250: 'Avondale',\n",
    "    300: 'Chandler',\n",
    "    350: 'Northwest Tucson',\n",
    "    400: 'Laveen',\n",
    "    450: 'Gilbert',\n",
    "    500: 'Surprise',\n",
    "    550: 'North Chandler',\n",
    "    600: 'Glendale',\n",
    "    650: 'Peoria',\n",
    "    700: 'East Mesa',\n",
    "    750: 'Phoenix',\n",
    "    800: 'Goodyear',\n",
    "    850: 'North Phoenix',\n",
    "    900: 'West Surprise',\n",
    "    950: 'East Tucson',\n",
    "    1000: 'Deer Valley',\n",
    "    1050: 'Mesa',\n",
    "    1100: 'Legacy Online Academy',\n",
    "}\n",
    "\n",
    "AZ_FocusedColumns['School_Bldg'] = AZ_FocusedColumns['STUDENTS.SchoolID'].map(transform_schoolID)"
   ]
  },
  {
   "cell_type": "code",
   "execution_count": null,
   "id": "56c096dc",
   "metadata": {},
   "outputs": [],
   "source": [
    "AZ_FocusedColumns.School_Bldg.value_counts().sort_index()"
   ]
  },
  {
   "cell_type": "code",
   "execution_count": null,
   "id": "ce4f0eef",
   "metadata": {},
   "outputs": [],
   "source": [
    "AZ_FocusedColumns['District'] = 'Legacy Traditional Schools- AZ'"
   ]
  },
  {
   "cell_type": "code",
   "execution_count": null,
   "id": "6f60e012",
   "metadata": {},
   "outputs": [],
   "source": [
    "AZ_FocusedColumns['School_BldgCode'] = 'LTS-AZ-' + AZ_FocusedColumns['STUDENTS.SchoolID'].astype(str)"
   ]
  },
  {
   "cell_type": "code",
   "execution_count": null,
   "id": "ccd62bfb",
   "metadata": {},
   "outputs": [],
   "source": [
    "HomeroomStrip = AZ_FocusedColumns['STUDENTS.Home_Room'].str.rstrip(', \\n')"
   ]
  },
  {
   "cell_type": "code",
   "execution_count": null,
   "id": "5f79295d",
   "metadata": {},
   "outputs": [],
   "source": [
    "AZ_Partition = AZ_FocusedColumns"
   ]
  },
  {
   "cell_type": "code",
   "execution_count": null,
   "id": "a85383e5",
   "metadata": {},
   "outputs": [],
   "source": [
    "AZ_Partition['HomeRoom_Last'] = AZ_Partition['STUDENTS.Home_Room'].str.partition(', ')[0]"
   ]
  },
  {
   "cell_type": "code",
   "execution_count": null,
   "id": "753d14d5",
   "metadata": {
    "scrolled": true
   },
   "outputs": [],
   "source": [
    "AZ_Partition['Class'] =  AZ_Partition['STUDENTS.Grade_Level'].astype(str) + ' - ' + AZ_Partition['HomeRoom_Last']"
   ]
  },
  {
   "cell_type": "code",
   "execution_count": null,
   "id": "59e0b5ee",
   "metadata": {},
   "outputs": [],
   "source": [
    "AZ_Partition['Unique_Student_ID'] = 'AZ' + AZ_Partition['STUDENTS.Student_Number'].astype(str)"
   ]
  },
  {
   "cell_type": "code",
   "execution_count": null,
   "id": "a7c740cf",
   "metadata": {},
   "outputs": [],
   "source": [
    "AZ_Partition['format_DOB'] = pd.to_datetime(AZ_Partition['STUDENTS.DOB'])"
   ]
  },
  {
   "cell_type": "code",
   "execution_count": null,
   "id": "c32a8b56",
   "metadata": {},
   "outputs": [],
   "source": [
    "AZ_Partition['Date_Of_Birth'] = AZ_Partition['format_DOB'].dt.strftime('%m/%d/%Y')"
   ]
  },
  {
   "cell_type": "code",
   "execution_count": null,
   "id": "025b6fcb",
   "metadata": {},
   "outputs": [],
   "source": [
    "AZ_Partition['Code'] = '' "
   ]
  },
  {
   "cell_type": "code",
   "execution_count": null,
   "id": "dc02b5a5",
   "metadata": {},
   "outputs": [],
   "source": [
    "AZ_Partition['Active User'] = ''"
   ]
  },
  {
   "cell_type": "code",
   "execution_count": null,
   "id": "a1a1d779",
   "metadata": {},
   "outputs": [],
   "source": [
    "AZ_Partition"
   ]
  },
  {
   "cell_type": "code",
   "execution_count": null,
   "id": "ba21dc61",
   "metadata": {
    "scrolled": true
   },
   "outputs": [],
   "source": [
    "AZ_Partition"
   ]
  },
  {
   "cell_type": "markdown",
   "id": "7f7cf1cd",
   "metadata": {},
   "source": [
    "<H5> Merge on SchoolID now"
   ]
  },
  {
   "cell_type": "code",
   "execution_count": null,
   "id": "e7c69c03",
   "metadata": {},
   "outputs": [],
   "source": [
    "# Link school information on School/Building Code\n",
    "School_Info = pd.read_csv(\"Schools_export.csv\", encoding='latin-1')"
   ]
  },
  {
   "cell_type": "code",
   "execution_count": null,
   "id": "01e124f1",
   "metadata": {},
   "outputs": [],
   "source": [
    "df_SchoolAddresses = School_Info.filter(['PS School Number', 'SCHOOLS.Name', 'SchoolAddress', 'SchoolCity', 'SchoolState', 'SchoolZip', 'STUDENTS.Grade_Level', 'STUDENTS.DOB']).dropna() \n"
   ]
  },
  {
   "cell_type": "code",
   "execution_count": null,
   "id": "22cada08",
   "metadata": {},
   "outputs": [],
   "source": [
    "df_SchoolAddresses"
   ]
  },
  {
   "cell_type": "code",
   "execution_count": null,
   "id": "d46362d9",
   "metadata": {},
   "outputs": [],
   "source": [
    "df_MergeTest = AZ_Partition.merge(df_SchoolAddresses, left_on='STUDENTS.SchoolID',right_on='PS School Number')"
   ]
  },
  {
   "cell_type": "code",
   "execution_count": null,
   "id": "514e79b3",
   "metadata": {},
   "outputs": [],
   "source": [
    "df_MergeTest"
   ]
  },
  {
   "cell_type": "code",
   "execution_count": null,
   "id": "831f4546",
   "metadata": {},
   "outputs": [],
   "source": [
    "AZ_FilteredColumns = AZ_Partition.filter(['District','School_BldgCode', 'Class', 'Code', 'STUDENTS.First_Name', \n",
    "'STUDENTS.Last_Name', 'STUDENTS.Middle_Name', 'Unique_Student_ID','Date_Of_Birth', 'STUDENTS.Gender', 'STUDENTS.Grade_Level', 'Active User', 'School_Bldg', 'STUDENTS.State_StudentNumber' ])"
   ]
  },
  {
   "cell_type": "code",
   "execution_count": null,
   "id": "922563bc",
   "metadata": {},
   "outputs": [],
   "source": [
    "df_MergeTest.info()"
   ]
  },
  {
   "cell_type": "code",
   "execution_count": null,
   "id": "02d574ee",
   "metadata": {},
   "outputs": [],
   "source": [
    "df_MergeTest"
   ]
  },
  {
   "cell_type": "code",
   "execution_count": null,
   "id": "79042e74",
   "metadata": {},
   "outputs": [],
   "source": [
    "AZ_FilteredLocations = df_MergeTest.filter(['District', 'School_Bldg', 'School_BldgCode', 'Class', 'STUDENTS.Grade_Level', \n",
    "                                            'Code', 'SchoolAddress', 'SchoolCity', 'SchoolState', 'SchoolZip'])"
   ]
  },
  {
   "cell_type": "code",
   "execution_count": null,
   "id": "940a8042",
   "metadata": {},
   "outputs": [],
   "source": [
    "AZ_FilteredLocations"
   ]
  },
  {
   "cell_type": "code",
   "execution_count": null,
   "id": "f30da862",
   "metadata": {},
   "outputs": [],
   "source": [
    "AZ_FilteredColumns = AZ_Partition.filter(['District','School_Bldg', 'School_BldgCode', 'Class', 'Code', 'STUDENTS.First_Name', \n",
    "'STUDENTS.Last_Name', 'STUDENTS.Middle_Name', 'Unique_Student_ID','Date_Of_Birth', 'STUDENTS.Gender', 'STUDENTS.Grade_Level', 'Active User', 'STUDENTS.State_StudentNumber'])"
   ]
  },
  {
   "cell_type": "code",
   "execution_count": null,
   "id": "7ec2ee15",
   "metadata": {},
   "outputs": [],
   "source": [
    "AZ_FilteredColumns"
   ]
  },
  {
   "cell_type": "code",
   "execution_count": null,
   "id": "89a45acf",
   "metadata": {},
   "outputs": [],
   "source": [
    "AZ_FilteredColumns.info()"
   ]
  },
  {
   "cell_type": "code",
   "execution_count": null,
   "id": "68e2ff68",
   "metadata": {},
   "outputs": [],
   "source": [
    "AZ_FilteredLocations"
   ]
  },
  {
   "cell_type": "code",
   "execution_count": null,
   "id": "fa276368",
   "metadata": {},
   "outputs": [],
   "source": [
    "dict = {'District' : 'District/Area *',\n",
    "        'School_Bldg' : 'School/Building *',\n",
    "        'School_BldgCode' : 'School/Building Code',\n",
    "        'Class' : 'Class *',\n",
    "        'STUDENTS.Grade_Level' : 'Grade *',\n",
    "        'SchoolAddress' : 'Address',\n",
    "        'SchoolCity' : 'City',\n",
    "        'SchoolState' : 'State',\n",
    "        'SchoolZip' : 'Zip',\n",
    "       }\n",
    "AZ_FilteredLocations.rename(columns=dict, inplace=True)"
   ]
  },
  {
   "cell_type": "code",
   "execution_count": null,
   "id": "1b4646ff",
   "metadata": {},
   "outputs": [],
   "source": [
    "AZ_FilteredLocations"
   ]
  },
  {
   "cell_type": "code",
   "execution_count": null,
   "id": "4467c47d",
   "metadata": {},
   "outputs": [],
   "source": [
    "AZ_LocationsToWrite = AZ_FilteredLocations.drop_duplicates()"
   ]
  },
  {
   "cell_type": "code",
   "execution_count": null,
   "id": "56e976f0",
   "metadata": {},
   "outputs": [],
   "source": [
    "AZ_LocationsToWrite"
   ]
  },
  {
   "cell_type": "code",
   "execution_count": null,
   "id": "e48e69f4",
   "metadata": {},
   "outputs": [],
   "source": [
    "AZ_LocationsToWrite.to_csv('AZ_CoGAT_location.csv', index=False, encoding='utf-8')"
   ]
  },
  {
   "cell_type": "code",
   "execution_count": null,
   "id": "5874596f",
   "metadata": {},
   "outputs": [],
   "source": [
    "dict = {'District' : 'District/Area *',\n",
    "        'School_Bldg' : 'School/Building *',\n",
    "        'School_BldgCode' : 'School/Building Code *',\n",
    "        'Class' : 'Class *',\n",
    "        'STUDENTS.First_Name' : 'First Name *',\n",
    "        'STUDENTS.Last_Name' : 'Last Name *',\n",
    "        'STUDENTS.Middle_Name' : 'Middle Name',\n",
    "        'Unique_Student_ID' : 'Unique Student ID *',\n",
    "        'Date_Of_Birth' : 'Date of Birth *',\n",
    "        'STUDENTS.Gender' : 'Gender *',\n",
    "        'STUDENTS.Grade_Level' : 'Grade *',\n",
    "        'STUDENTS.State_StudentNumber' : 'Additional ID Number'\n",
    "       }\n",
    "AZ_FilteredColumns.rename(columns=dict, inplace=True)"
   ]
  },
  {
   "cell_type": "code",
   "execution_count": null,
   "id": "43aedb03",
   "metadata": {},
   "outputs": [],
   "source": [
    "AZ_FilteredColumns"
   ]
  },
  {
   "cell_type": "code",
   "execution_count": null,
   "id": "dd257b92",
   "metadata": {},
   "outputs": [],
   "source": [
    "AZ_FilteredColumns.info()"
   ]
  },
  {
   "cell_type": "code",
   "execution_count": null,
   "id": "447cf464",
   "metadata": {},
   "outputs": [],
   "source": [
    "AZ_FilteredColumns.to_csv('AZ_CoGAT_student.csv', index=False, encoding='utf-8')"
   ]
  }
 ],
 "metadata": {
  "kernelspec": {
   "display_name": "Python 3 (ipykernel)",
   "language": "python",
   "name": "python3"
  },
  "language_info": {
   "codemirror_mode": {
    "name": "ipython",
    "version": 3
   },
   "file_extension": ".py",
   "mimetype": "text/x-python",
   "name": "python",
   "nbconvert_exporter": "python",
   "pygments_lexer": "ipython3",
   "version": "3.9.7"
  }
 },
 "nbformat": 4,
 "nbformat_minor": 5
}
