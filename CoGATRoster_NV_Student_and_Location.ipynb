{
 "cells": [
  {
   "cell_type": "code",
   "execution_count": null,
   "id": "6afd5d31",
   "metadata": {},
   "outputs": [],
   "source": [
    "import pandas as pd\n",
    "import numpy as np\n",
    "from io import StringIO"
   ]
  },
  {
   "cell_type": "markdown",
   "id": "b01a6660",
   "metadata": {},
   "source": [
    "Files Needed: <br>\n",
    "* Schools.csv <br>\n",
    "* Student_Course_SQL.csv <br>"
   ]
  },
  {
   "cell_type": "code",
   "execution_count": null,
   "id": "283adbdd",
   "metadata": {},
   "outputs": [],
   "source": [
    "NVSchools = pd.read_csv(\"Schools.csv\")"
   ]
  },
  {
   "cell_type": "code",
   "execution_count": null,
   "id": "eb0099ac",
   "metadata": {},
   "outputs": [],
   "source": [
    "NVStudents = pd.read_csv(\"Student_Course_SQL.csv\")"
   ]
  },
  {
   "cell_type": "markdown",
   "id": "bc993c53",
   "metadata": {},
   "source": [
    "# Questions:\n",
    "What do we do about junior high kids w/out homeroom? AZ and NV<br>"
   ]
  },
  {
   "cell_type": "code",
   "execution_count": null,
   "id": "2a764c3e",
   "metadata": {
    "scrolled": false
   },
   "outputs": [],
   "source": [
    "NVStudents.info()"
   ]
  },
  {
   "cell_type": "code",
   "execution_count": null,
   "id": "74580d71",
   "metadata": {},
   "outputs": [],
   "source": [
    "NVStudents['grade'].unique()"
   ]
  },
  {
   "cell_type": "code",
   "execution_count": null,
   "id": "92f254ff",
   "metadata": {},
   "outputs": [],
   "source": [
    "# Need to coerce grade to 0-8"
   ]
  },
  {
   "cell_type": "code",
   "execution_count": null,
   "id": "65b72453",
   "metadata": {},
   "outputs": [],
   "source": [
    "NVStudents"
   ]
  },
  {
   "cell_type": "code",
   "execution_count": null,
   "id": "a98f820a",
   "metadata": {
    "scrolled": true
   },
   "outputs": [],
   "source": [
    "NVStudents.grade.value_counts()"
   ]
  },
  {
   "cell_type": "code",
   "execution_count": null,
   "id": "6397e3de",
   "metadata": {},
   "outputs": [],
   "source": [
    "NVStudents['Int_Grade'] = np.where(NVStudents['grade'] == '0K', 0, NVStudents['grade'])"
   ]
  },
  {
   "cell_type": "code",
   "execution_count": null,
   "id": "dcaec1fb",
   "metadata": {},
   "outputs": [],
   "source": [
    "NVStudents.Int_Grade = pd.to_numeric(NVStudents.Int_Grade, errors=\"coerce\")"
   ]
  },
  {
   "cell_type": "code",
   "execution_count": null,
   "id": "e68f8982",
   "metadata": {},
   "outputs": [],
   "source": [
    "NVStudents.Int_Grade.value_counts()"
   ]
  },
  {
   "cell_type": "code",
   "execution_count": null,
   "id": "7cacadbf",
   "metadata": {},
   "outputs": [],
   "source": [
    "NVJuniorHigh = NVStudents.loc[NVStudents['Int_Grade'] > 6]"
   ]
  },
  {
   "cell_type": "code",
   "execution_count": null,
   "id": "b1bca155",
   "metadata": {},
   "outputs": [],
   "source": [
    "NVJuniorHigh.grade.value_counts()"
   ]
  },
  {
   "cell_type": "code",
   "execution_count": null,
   "id": "2ff855db",
   "metadata": {},
   "outputs": [],
   "source": [
    "NVJuniorHigh.grade = pd.to_numeric(NVJuniorHigh.grade, errors=\"coerce\")"
   ]
  },
  {
   "cell_type": "code",
   "execution_count": null,
   "id": "a7c68e6d",
   "metadata": {},
   "outputs": [],
   "source": [
    "NVJuniorHigh.grade.value_counts()"
   ]
  },
  {
   "cell_type": "code",
   "execution_count": null,
   "id": "a316457c",
   "metadata": {},
   "outputs": [],
   "source": [
    "NV_JR_Homeroom = NVJuniorHigh.loc[NVJuniorHigh['periodstart'] == '7'] "
   ]
  },
  {
   "cell_type": "code",
   "execution_count": null,
   "id": "b9112104",
   "metadata": {
    "scrolled": true
   },
   "outputs": [],
   "source": [
    "NV_JR_Homeroom.info()"
   ]
  },
  {
   "cell_type": "code",
   "execution_count": null,
   "id": "6704860f",
   "metadata": {},
   "outputs": [],
   "source": [
    "NV_JR_Homeroom"
   ]
  },
  {
   "cell_type": "code",
   "execution_count": null,
   "id": "51b23539",
   "metadata": {},
   "outputs": [],
   "source": [
    "NV_JR_Homeroom.periodstart = pd.to_numeric(NV_JR_Homeroom.periodstart, errors=\"coerce\")"
   ]
  },
  {
   "cell_type": "code",
   "execution_count": null,
   "id": "6750b2e6",
   "metadata": {},
   "outputs": [],
   "source": [
    "NV_JR_Homeroom.grade.value_counts()"
   ]
  },
  {
   "cell_type": "code",
   "execution_count": null,
   "id": "751ed200",
   "metadata": {},
   "outputs": [],
   "source": [
    "NV_Elem_Homeroom = NVStudents[NVStudents['coursename'] == 'Homeroom']"
   ]
  },
  {
   "cell_type": "code",
   "execution_count": null,
   "id": "63e9274a",
   "metadata": {},
   "outputs": [],
   "source": [
    "NV_Elem_Homeroom.info()"
   ]
  },
  {
   "cell_type": "code",
   "execution_count": null,
   "id": "6c285c0f",
   "metadata": {
    "scrolled": true
   },
   "outputs": [],
   "source": [
    "NV_Elem_Homeroom.Int_Grade.value_counts()"
   ]
  },
  {
   "cell_type": "code",
   "execution_count": null,
   "id": "19dabb98",
   "metadata": {},
   "outputs": [],
   "source": [
    "NV_Elem_Homeroom.info()"
   ]
  },
  {
   "cell_type": "code",
   "execution_count": null,
   "id": "8e9205bd",
   "metadata": {},
   "outputs": [],
   "source": [
    "AllNVHomerooms = NV_Elem_Homeroom.append(NV_JR_Homeroom)"
   ]
  },
  {
   "cell_type": "code",
   "execution_count": null,
   "id": "6c191d99",
   "metadata": {},
   "outputs": [],
   "source": [
    "AllNVHomerooms.info()"
   ]
  },
  {
   "cell_type": "code",
   "execution_count": null,
   "id": "a9ff83bc",
   "metadata": {},
   "outputs": [],
   "source": [
    "transform_grade = {\n",
    "    39438:'North Valley',\n",
    "    39439: 'Cadence',\n",
    "    39440: 'Southwest Las Vegas',\n",
    "}\n",
    "\n",
    "AllNVHomerooms['School_Bldg'] = AllNVHomerooms['number'].map(transform_grade)"
   ]
  },
  {
   "cell_type": "code",
   "execution_count": null,
   "id": "7446629e",
   "metadata": {},
   "outputs": [],
   "source": [
    "AllNVHomerooms['Unique_StudentID'] = 'LTSNV' + AllNVHomerooms['studentNumber'].astype(str)"
   ]
  },
  {
   "cell_type": "code",
   "execution_count": null,
   "id": "70492888",
   "metadata": {},
   "outputs": [],
   "source": [
    "AllNVHomerooms['DOB'] = pd.to_datetime(AllNVHomerooms['birthdate'])\n",
    "AllNVHomerooms['DOB_MDY'] = AllNVHomerooms['DOB'].dt.strftime('%m/%d/%Y')"
   ]
  },
  {
   "cell_type": "code",
   "execution_count": null,
   "id": "485f7a4e",
   "metadata": {},
   "outputs": [],
   "source": [
    "AllNVHomerooms['District'] = 'Legacy Traditional Schools- NV'"
   ]
  },
  {
   "cell_type": "markdown",
   "id": "aa068124",
   "metadata": {},
   "source": [
    "<H5>  Classroom based on Homeroom and Code needed"
   ]
  },
  {
   "cell_type": "code",
   "execution_count": null,
   "id": "3d0f0225",
   "metadata": {},
   "outputs": [],
   "source": [
    "AllNVHomerooms.info()"
   ]
  },
  {
   "cell_type": "code",
   "execution_count": null,
   "id": "85577dca",
   "metadata": {},
   "outputs": [],
   "source": [
    "AllNVHomerooms['HomeRoom_Last'] = AllNVHomerooms['teacherfullname'].str.partition(', ')[0]"
   ]
  },
  {
   "cell_type": "code",
   "execution_count": null,
   "id": "1527198a",
   "metadata": {},
   "outputs": [],
   "source": [
    "AllNVHomerooms['Class'] =  AllNVHomerooms['Int_Grade'].astype(str) + ' - ' + AllNVHomerooms['HomeRoom_Last']"
   ]
  },
  {
   "cell_type": "code",
   "execution_count": null,
   "id": "9ce6928c",
   "metadata": {},
   "outputs": [],
   "source": [
    "AllNVHomerooms.info()"
   ]
  },
  {
   "cell_type": "code",
   "execution_count": null,
   "id": "4ebd4b4a",
   "metadata": {},
   "outputs": [],
   "source": [
    "dict = {'District' : 'District/Area',\n",
    "        'School_Bldg' : 'School/Building',\n",
    "        'number' : 'School/Building Code',\n",
    "        'Class' : 'Class',\n",
    "        'firstname' : 'First Name',\n",
    "        'lastname' : 'Last Name',\n",
    "        'middlename' : 'Middle Name',\n",
    "        'Unique_StudentID' : 'Unique Student ID',\n",
    "        'DOB_MDY' : 'Date of Birth',\n",
    "        'gender' : 'Gender',\n",
    "        'Int_Grade' : 'Grade'\n",
    "       }\n",
    "AllNVHomerooms.rename(columns=dict, inplace=True)"
   ]
  },
  {
   "cell_type": "code",
   "execution_count": null,
   "id": "9d7b7003",
   "metadata": {},
   "outputs": [],
   "source": [
    "AllNVHomerooms['Code'] = '' "
   ]
  },
  {
   "cell_type": "code",
   "execution_count": null,
   "id": "64ecc6db",
   "metadata": {},
   "outputs": [],
   "source": [
    "df_NV_Roster = AllNVHomerooms.filter(['District/Area', 'School/Building', 'School/Building Code', 'Class', 'Code', 'First Name', 'Last Name', 'Middle Name', \n",
    "                                        'Unique Student ID', 'Date of Birth', 'Gender', 'Grade'])"
   ]
  },
  {
   "cell_type": "code",
   "execution_count": null,
   "id": "761c8ddf",
   "metadata": {},
   "outputs": [],
   "source": [
    "df_NV_Roster.info()"
   ]
  },
  {
   "cell_type": "code",
   "execution_count": null,
   "id": "71abd18f",
   "metadata": {},
   "outputs": [],
   "source": [
    "df_NV_Roster.to_csv('NV_CoGAT_student.csv', index=False, encoding='utf-8')"
   ]
  },
  {
   "cell_type": "markdown",
   "id": "225657a6",
   "metadata": {},
   "source": [
    "<H4> Fields for locations file <br>\n",
    "   * District/Area <br>\n",
    "   * School/Building <br>\n",
    "   * School/Building Code <br>\n",
    "   * Class <br>\n",
    "   * Grade <br>\n",
    "   * Code <br>\n",
    "   * Address <br>\n",
    "   * City <br>\n",
    "   * State <br> \n",
    "   * Zip Code <br>"
   ]
  },
  {
   "cell_type": "code",
   "execution_count": null,
   "id": "01ee2cb4",
   "metadata": {},
   "outputs": [],
   "source": [
    "# Just need Address/City/State/Zip Code"
   ]
  },
  {
   "cell_type": "code",
   "execution_count": null,
   "id": "2c14e843",
   "metadata": {},
   "outputs": [],
   "source": [
    "df_NV_Locations = df_NV_Roster[['District/Area', 'School/Building', 'School/Building Code', 'Class', 'Grade']]"
   ]
  },
  {
   "cell_type": "code",
   "execution_count": null,
   "id": "882c2625",
   "metadata": {},
   "outputs": [],
   "source": [
    "df_NV_Locations"
   ]
  },
  {
   "cell_type": "code",
   "execution_count": null,
   "id": "717b5fb3",
   "metadata": {},
   "outputs": [],
   "source": [
    "df_NV_Loc_dd = df_NV_Locations.drop_duplicates()"
   ]
  },
  {
   "cell_type": "code",
   "execution_count": null,
   "id": "cbabcb45",
   "metadata": {},
   "outputs": [],
   "source": [
    "df_NV_Loc_dd"
   ]
  },
  {
   "cell_type": "code",
   "execution_count": null,
   "id": "90a269d8",
   "metadata": {},
   "outputs": [],
   "source": [
    "# Get schools\n",
    "NVSchools"
   ]
  },
  {
   "cell_type": "code",
   "execution_count": null,
   "id": "f9cf73cc",
   "metadata": {},
   "outputs": [],
   "source": [
    "df_MergeLocs= df_NV_Loc_dd.merge(NVSchools, left_on='School/Building Code',right_on='number')"
   ]
  },
  {
   "cell_type": "code",
   "execution_count": null,
   "id": "3cdab733",
   "metadata": {},
   "outputs": [],
   "source": [
    "df_MergeLocs"
   ]
  },
  {
   "cell_type": "code",
   "execution_count": null,
   "id": "f07d68e8",
   "metadata": {},
   "outputs": [],
   "source": [
    "df_NV_Schools_Fields = df_MergeLocs.filter(['District/Area', 'School/Building', 'School/Building Code', 'Class', 'Grade', \n",
    "                                            'address', 'city', 'state', 'zip'])"
   ]
  },
  {
   "cell_type": "code",
   "execution_count": null,
   "id": "18e59835",
   "metadata": {
    "scrolled": true
   },
   "outputs": [],
   "source": [
    "df_NV_Schools_Fields"
   ]
  },
  {
   "cell_type": "code",
   "execution_count": null,
   "id": "e88eeef5",
   "metadata": {},
   "outputs": [],
   "source": [
    "dict = {'address' : 'Address',\n",
    "        'city' : 'City',\n",
    "        'state' : 'State',\n",
    "        'zip' : 'Zip Code'\n",
    "       }\n",
    "df_NV_Schools_Fields.rename(columns=dict, inplace=True)"
   ]
  },
  {
   "cell_type": "code",
   "execution_count": null,
   "id": "5ac77e1d",
   "metadata": {},
   "outputs": [],
   "source": [
    "df_NV_Schools_Fields"
   ]
  },
  {
   "cell_type": "code",
   "execution_count": null,
   "id": "9fdbee0b",
   "metadata": {},
   "outputs": [],
   "source": [
    "df_NV_Schools_Fields.to_csv('NV_CoGAT_locations.csv', index=False, encoding='utf-8')"
   ]
  }
 ],
 "metadata": {
  "kernelspec": {
   "display_name": "Python 3 (ipykernel)",
   "language": "python",
   "name": "python3"
  },
  "language_info": {
   "codemirror_mode": {
    "name": "ipython",
    "version": 3
   },
   "file_extension": ".py",
   "mimetype": "text/x-python",
   "name": "python",
   "nbconvert_exporter": "python",
   "pygments_lexer": "ipython3",
   "version": "3.9.7"
  }
 },
 "nbformat": 4,
 "nbformat_minor": 5
}
