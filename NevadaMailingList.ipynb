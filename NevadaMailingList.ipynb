{
 "cells": [
  {
   "cell_type": "code",
   "execution_count": null,
   "id": "82dfe494-3ca5-4cb6-a209-6e808fb8269d",
   "metadata": {},
   "outputs": [],
   "source": [
    "import pandas as pd"
   ]
  },
  {
   "cell_type": "code",
   "execution_count": null,
   "id": "54c83966-7e49-48a4-a265-075300394b71",
   "metadata": {},
   "outputs": [],
   "source": [
    "from io import StringIO"
   ]
  },
  {
   "cell_type": "code",
   "execution_count": null,
   "id": "7c8265ac",
   "metadata": {},
   "outputs": [],
   "source": [
    "import numpy as np"
   ]
  },
  {
   "cell_type": "markdown",
   "id": "8b38e875",
   "metadata": {},
   "source": [
    "<H3> Required file is: Raptor-Students.csv"
   ]
  },
  {
   "cell_type": "code",
   "execution_count": null,
   "id": "2d7e1a2f-3328-4d7b-88fb-b8a3c11c1780",
   "metadata": {},
   "outputs": [],
   "source": [
    "NVStudents = pd.read_csv(\"Raptor-Students.csv\", encoding='latin-1')"
   ]
  },
  {
   "cell_type": "code",
   "execution_count": null,
   "id": "06cc477d-62c2-4f7f-8176-f221587aa2bc",
   "metadata": {
    "tags": []
   },
   "outputs": [],
   "source": [
    "NVStudents.info()"
   ]
  },
  {
   "cell_type": "code",
   "execution_count": null,
   "id": "55cb89b4-653b-4a3a-9b21-c82f94841a6f",
   "metadata": {
    "jupyter": {
     "outputs_hidden": true
    },
    "tags": []
   },
   "outputs": [],
   "source": [
    "NVStudents"
   ]
  },
  {
   "cell_type": "markdown",
   "id": "3d80dc87",
   "metadata": {},
   "source": [
    "MailingList.rename(columns={'STUDENTS.SchoolID': 'school_sis_id', 'STUDENTS.Grade_Level': 'grade', 'Email Address': 'email'}, inplace=True)"
   ]
  },
  {
   "cell_type": "code",
   "execution_count": null,
   "id": "646a7685-9433-40dd-998c-2cffb05bd7c7",
   "metadata": {},
   "outputs": [],
   "source": [
    "NVMailingList = NVStudents.filter(['School Number','Grade','contacts.email', 'contacts.guardian'])"
   ]
  },
  {
   "cell_type": "code",
   "execution_count": null,
   "id": "d6ee2c25",
   "metadata": {
    "scrolled": true
   },
   "outputs": [],
   "source": [
    "NVMailingList"
   ]
  },
  {
   "cell_type": "code",
   "execution_count": null,
   "id": "c2d3b991",
   "metadata": {},
   "outputs": [],
   "source": [
    "NVMailingList.rename(columns={'School Number': 'school_sis_id', 'Grade':'grade', 'contacts.email': 'email'}, inplace=True)"
   ]
  },
  {
   "cell_type": "code",
   "execution_count": null,
   "id": "d7e45202",
   "metadata": {},
   "outputs": [],
   "source": [
    "NVMailingList"
   ]
  },
  {
   "cell_type": "code",
   "execution_count": null,
   "id": "31e5e08f",
   "metadata": {
    "scrolled": false
   },
   "outputs": [],
   "source": [
    "df_Guardians = NVMailingList.rename(columns={'contacts.guardian': 'guardian'})"
   ]
  },
  {
   "cell_type": "code",
   "execution_count": null,
   "id": "864963aa",
   "metadata": {},
   "outputs": [],
   "source": [
    "df_Guardians"
   ]
  },
  {
   "cell_type": "code",
   "execution_count": null,
   "id": "b75fc0d1",
   "metadata": {},
   "outputs": [],
   "source": [
    "df_Guardians.grade.value_counts().sort_index()"
   ]
  },
  {
   "cell_type": "code",
   "execution_count": null,
   "id": "397b25b2",
   "metadata": {},
   "outputs": [],
   "source": [
    "df_Guardians = df_Guardians.loc[df_Guardians['guardian'] == 1]"
   ]
  },
  {
   "cell_type": "code",
   "execution_count": null,
   "id": "d8f77c30",
   "metadata": {},
   "outputs": [],
   "source": [
    "df_Guardians.info()"
   ]
  },
  {
   "cell_type": "code",
   "execution_count": null,
   "id": "612e5864",
   "metadata": {},
   "outputs": [],
   "source": [
    "df_Guardians"
   ]
  },
  {
   "cell_type": "code",
   "execution_count": null,
   "id": "8b31524e",
   "metadata": {},
   "outputs": [],
   "source": [
    "# Make sure grade levels are precise, contacts.guardian == 1, get ride of Relationship if not 1"
   ]
  },
  {
   "cell_type": "code",
   "execution_count": null,
   "id": "8597f9a1",
   "metadata": {},
   "outputs": [],
   "source": [
    "df_Guardians = df_Guardians.reset_index(drop=True)"
   ]
  },
  {
   "cell_type": "code",
   "execution_count": null,
   "id": "6fd646f2",
   "metadata": {},
   "outputs": [],
   "source": [
    "df_Guardians.grade.value_counts().sort_index()"
   ]
  },
  {
   "cell_type": "code",
   "execution_count": null,
   "id": "933d8cd8",
   "metadata": {},
   "outputs": [],
   "source": [
    "df_Guardians.info()"
   ]
  },
  {
   "cell_type": "code",
   "execution_count": null,
   "id": "57792307",
   "metadata": {},
   "outputs": [],
   "source": [
    "# Drop Null Email"
   ]
  },
  {
   "cell_type": "code",
   "execution_count": null,
   "id": "59dca7c0",
   "metadata": {},
   "outputs": [],
   "source": [
    "df_GuardiansEmails = df_Guardians.dropna(subset=['email'])"
   ]
  },
  {
   "cell_type": "code",
   "execution_count": null,
   "id": "d57a698e",
   "metadata": {},
   "outputs": [],
   "source": [
    "df_GuardiansEmails.info()"
   ]
  },
  {
   "cell_type": "code",
   "execution_count": null,
   "id": "dd38281b",
   "metadata": {},
   "outputs": [],
   "source": [
    "df_GuardiansEmails.grade.value_counts().sort_index()"
   ]
  },
  {
   "cell_type": "code",
   "execution_count": null,
   "id": "1102483f",
   "metadata": {},
   "outputs": [],
   "source": [
    "df_GuardiansEmails.count()"
   ]
  },
  {
   "cell_type": "code",
   "execution_count": null,
   "id": "15ccf737",
   "metadata": {},
   "outputs": [],
   "source": [
    "df_GuardiansEmails"
   ]
  },
  {
   "cell_type": "code",
   "execution_count": null,
   "id": "eafa9ca4",
   "metadata": {},
   "outputs": [],
   "source": [
    "df_GuardiansEmails"
   ]
  },
  {
   "cell_type": "code",
   "execution_count": null,
   "id": "3e27e879",
   "metadata": {},
   "outputs": [],
   "source": [
    "transform_grade = {\n",
    "    '0K': 'KG',\n",
    "    '01': '1',\n",
    "    '02': '2',\n",
    "    '03': '3',\n",
    "    '04': '4',\n",
    "    '05': '5',\n",
    "    '06': '6',\n",
    "    '07': '7',\n",
    "    '08': '8',\n",
    "}\n",
    "\n",
    "df_GuardiansEmails['transformed_grade'] = df_GuardiansEmails['grade'].map(transform_grade)"
   ]
  },
  {
   "cell_type": "code",
   "execution_count": null,
   "id": "a838c61e",
   "metadata": {},
   "outputs": [],
   "source": [
    "df_GuardiansEmails"
   ]
  },
  {
   "cell_type": "code",
   "execution_count": null,
   "id": "10e7f9fe",
   "metadata": {},
   "outputs": [],
   "source": [
    "# Change column names, change grade values"
   ]
  },
  {
   "cell_type": "code",
   "execution_count": null,
   "id": "d3d2c28e",
   "metadata": {},
   "outputs": [],
   "source": [
    "df_GuardiansEmails.transformed_grade.value_counts().sort_index()"
   ]
  },
  {
   "cell_type": "code",
   "execution_count": null,
   "id": "b995bf05",
   "metadata": {},
   "outputs": [],
   "source": [
    "df_GuardiansEmails.info()"
   ]
  },
  {
   "cell_type": "code",
   "execution_count": null,
   "id": "06135c02",
   "metadata": {},
   "outputs": [],
   "source": [
    "df_NVMailingList = df_GuardiansEmails.filter(['school_sis_id', 'transformed_grade', 'email'])"
   ]
  },
  {
   "cell_type": "code",
   "execution_count": null,
   "id": "5879c25e",
   "metadata": {},
   "outputs": [],
   "source": [
    "df_NVMailingList"
   ]
  },
  {
   "cell_type": "code",
   "execution_count": null,
   "id": "f5ba4146",
   "metadata": {},
   "outputs": [],
   "source": [
    "df_NVMailingList.rename(columns={'transformed_grade':'grade'}, inplace=True)"
   ]
  },
  {
   "cell_type": "code",
   "execution_count": null,
   "id": "42973ccd",
   "metadata": {},
   "outputs": [],
   "source": [
    "df_NVMailingList"
   ]
  },
  {
   "cell_type": "markdown",
   "id": "0af28de1-bc40-4af2-a29d-035134385a57",
   "metadata": {},
   "source": [
    "<H5> take out Index, Write to a csv file"
   ]
  },
  {
   "cell_type": "code",
   "execution_count": null,
   "id": "bf66ba1f-0b38-4fd8-8581-500384010a7a",
   "metadata": {},
   "outputs": [],
   "source": [
    "df_NVMailingList.to_csv('NVEmailAddresses.csv', index=False, encoding='utf-8')"
   ]
  }
 ],
 "metadata": {
  "kernelspec": {
   "display_name": "Python 3 (ipykernel)",
   "language": "python",
   "name": "python3"
  },
  "language_info": {
   "codemirror_mode": {
    "name": "ipython",
    "version": 3
   },
   "file_extension": ".py",
   "mimetype": "text/x-python",
   "name": "python",
   "nbconvert_exporter": "python",
   "pygments_lexer": "ipython3",
   "version": "3.10.5"
  }
 },
 "nbformat": 4,
 "nbformat_minor": 5
}
