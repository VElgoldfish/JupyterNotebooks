{
 "cells": [
  {
   "cell_type": "code",
   "execution_count": 1,
   "id": "5c2e3efa",
   "metadata": {},
   "outputs": [],
   "source": [
    "import pandas as pd\n",
    "import numpy as np\n",
    "from io import StringIO\n",
    "from datetime import datetime as dt\n",
    "import math"
   ]
  },
  {
   "cell_type": "markdown",
   "id": "70c532c4",
   "metadata": {},
   "source": [
    "<H4> Looking for materials: Science, Reading, Grammar/Writing, data for each subject by school, teacher or student, date (?)\n",
    "    "
   ]
  },
  {
   "cell_type": "code",
   "execution_count": 2,
   "id": "45999d7c",
   "metadata": {},
   "outputs": [],
   "source": [
    "# January First"
   ]
  },
  {
   "cell_type": "code",
   "execution_count": 3,
   "id": "89d3d574",
   "metadata": {},
   "outputs": [
    {
     "name": "stderr",
     "output_type": "stream",
     "text": [
      "C:\\Users\\lauren.goldfish\\Anaconda3\\lib\\site-packages\\IPython\\core\\interactiveshell.py:3444: DtypeWarning: Columns (26) have mixed types.Specify dtype option on import or set low_memory=False.\n",
      "  exec(code_obj, self.user_global_ns, self.user_ns)\n"
     ]
    }
   ],
   "source": [
    "df_January = pd.read_csv(\"AllJanuaryData.csv\", encoding='latin-1')"
   ]
  },
  {
   "cell_type": "code",
   "execution_count": 4,
   "id": "f7fdcb27",
   "metadata": {},
   "outputs": [],
   "source": [
    "# , format = '%m%d%Y'"
   ]
  },
  {
   "cell_type": "code",
   "execution_count": 5,
   "id": "28a5a707",
   "metadata": {},
   "outputs": [
    {
     "name": "stdout",
     "output_type": "stream",
     "text": [
      "<class 'pandas.core.frame.DataFrame'>\n",
      "RangeIndex: 1681925 entries, 0 to 1681924\n",
      "Data columns (total 35 columns):\n",
      " #   Column                Non-Null Count    Dtype  \n",
      "---  ------                --------------    -----  \n",
      " 0   role_name             1681925 non-null  object \n",
      " 1   user_building_id      1681925 non-null  int64  \n",
      " 2   user_building_name    1681925 non-null  object \n",
      " 3   username              1681925 non-null  object \n",
      " 4   email                 1681802 non-null  object \n",
      " 5   schoology_user_id     1681925 non-null  int64  \n",
      " 6   unique_user_id        1671869 non-null  object \n",
      " 7   action_type           1681925 non-null  object \n",
      " 8   item_type             1681925 non-null  object \n",
      " 9   item_id               1548272 non-null  float64\n",
      " 10  item_name             1545001 non-null  object \n",
      " 11  course_name           1519599 non-null  object \n",
      " 12  course_code           1476685 non-null  object \n",
      " 13  section_name          1519599 non-null  object \n",
      " 14  last_event_timestamp  1681925 non-null  object \n",
      " 15  event_count           1681925 non-null  int64  \n",
      " 16  role_id               1681925 non-null  int64  \n",
      " 17  user_building_code    0 non-null        float64\n",
      " 18  last_name             1681925 non-null  object \n",
      " 19  first_name            1681925 non-null  object \n",
      " 20  device_type           1681925 non-null  object \n",
      " 21  item_building_id      1681916 non-null  float64\n",
      " 22  item_building_name    1681916 non-null  object \n",
      " 23  item_building_code    0 non-null        float64\n",
      " 24  item_parent_type      1681925 non-null  object \n",
      " 25  group_id              11819 non-null    float64\n",
      " 26  group_name            11819 non-null    object \n",
      " 27  course_id             1519599 non-null  float64\n",
      " 28  section_id            1519599 non-null  float64\n",
      " 29  section_school_code   1475204 non-null  float64\n",
      " 30  section_code          887 non-null      float64\n",
      " 31  month                 1681925 non-null  int64  \n",
      " 32  date                  1681925 non-null  object \n",
      " 33  timestamp             1681925 non-null  object \n",
      " 34  time spent (seconds)  155980 non-null   float64\n",
      "dtypes: float64(10), int64(5), object(20)\n",
      "memory usage: 449.1+ MB\n"
     ]
    }
   ],
   "source": [
    "# 1,681,925 rows\n",
    "df_January.info()"
   ]
  },
  {
   "cell_type": "code",
   "execution_count": 6,
   "id": "fefe0691",
   "metadata": {},
   "outputs": [],
   "source": [
    "df_write_January = df_January.head(500)"
   ]
  },
  {
   "cell_type": "code",
   "execution_count": 7,
   "id": "1c24dcc0",
   "metadata": {},
   "outputs": [],
   "source": [
    "df_write_January.to_csv('January500.csv', index=False, encoding='utf-8')\n"
   ]
  },
  {
   "cell_type": "code",
   "execution_count": 8,
   "id": "f8364f60",
   "metadata": {},
   "outputs": [],
   "source": [
    "df_January['date'] = pd.to_datetime(df_January['date'])"
   ]
  },
  {
   "cell_type": "code",
   "execution_count": 9,
   "id": "9e1ad7fc",
   "metadata": {},
   "outputs": [
    {
     "data": {
      "text/plain": [
       "Timestamp('2022-01-01 00:00:00')"
      ]
     },
     "execution_count": 9,
     "metadata": {},
     "output_type": "execute_result"
    }
   ],
   "source": [
    "df_January['date'].min()"
   ]
  },
  {
   "cell_type": "code",
   "execution_count": 10,
   "id": "89233a62",
   "metadata": {},
   "outputs": [
    {
     "data": {
      "text/plain": [
       "Timestamp('2022-01-31 00:00:00')"
      ]
     },
     "execution_count": 10,
     "metadata": {},
     "output_type": "execute_result"
    }
   ],
   "source": [
    "df_January['date'].max()"
   ]
  },
  {
   "cell_type": "code",
   "execution_count": 11,
   "id": "67e057fd",
   "metadata": {},
   "outputs": [],
   "source": [
    "# Drop all null course names, down to 1,519,599 rows\n",
    "df_January_NotNull = df_January.dropna(subset=['course_name'])"
   ]
  },
  {
   "cell_type": "code",
   "execution_count": 12,
   "id": "78b2b6d5",
   "metadata": {},
   "outputs": [
    {
     "name": "stdout",
     "output_type": "stream",
     "text": [
      "<class 'pandas.core.frame.DataFrame'>\n",
      "Int64Index: 1519599 entries, 0 to 1681924\n",
      "Data columns (total 35 columns):\n",
      " #   Column                Non-Null Count    Dtype         \n",
      "---  ------                --------------    -----         \n",
      " 0   role_name             1519599 non-null  object        \n",
      " 1   user_building_id      1519599 non-null  int64         \n",
      " 2   user_building_name    1519599 non-null  object        \n",
      " 3   username              1519599 non-null  object        \n",
      " 4   email                 1519551 non-null  object        \n",
      " 5   schoology_user_id     1519599 non-null  int64         \n",
      " 6   unique_user_id        1512982 non-null  object        \n",
      " 7   action_type           1519599 non-null  object        \n",
      " 8   item_type             1519599 non-null  object        \n",
      " 9   item_id               1519501 non-null  float64       \n",
      " 10  item_name             1517862 non-null  object        \n",
      " 11  course_name           1519599 non-null  object        \n",
      " 12  course_code           1476685 non-null  object        \n",
      " 13  section_name          1519599 non-null  object        \n",
      " 14  last_event_timestamp  1519599 non-null  object        \n",
      " 15  event_count           1519599 non-null  int64         \n",
      " 16  role_id               1519599 non-null  int64         \n",
      " 17  user_building_code    0 non-null        float64       \n",
      " 18  last_name             1519599 non-null  object        \n",
      " 19  first_name            1519599 non-null  object        \n",
      " 20  device_type           1519599 non-null  object        \n",
      " 21  item_building_id      1519599 non-null  float64       \n",
      " 22  item_building_name    1519599 non-null  object        \n",
      " 23  item_building_code    0 non-null        float64       \n",
      " 24  item_parent_type      1519599 non-null  object        \n",
      " 25  group_id              0 non-null        float64       \n",
      " 26  group_name            0 non-null        object        \n",
      " 27  course_id             1519599 non-null  float64       \n",
      " 28  section_id            1519599 non-null  float64       \n",
      " 29  section_school_code   1475204 non-null  float64       \n",
      " 30  section_code          887 non-null      float64       \n",
      " 31  month                 1519599 non-null  int64         \n",
      " 32  date                  1519599 non-null  datetime64[ns]\n",
      " 33  timestamp             1519599 non-null  object        \n",
      " 34  time spent (seconds)  155980 non-null   float64       \n",
      "dtypes: datetime64[ns](1), float64(10), int64(5), object(19)\n",
      "memory usage: 417.4+ MB\n"
     ]
    }
   ],
   "source": [
    "df_January_NotNull.info()"
   ]
  },
  {
   "cell_type": "code",
   "execution_count": 13,
   "id": "5d03099d",
   "metadata": {},
   "outputs": [],
   "source": [
    "# Grammar, no filter: 231,333 rows × 35 columns\n",
    "df_coursename_grammar = df_January_NotNull.loc[df_January_NotNull['course_name'].str.contains(\"grammar\", case = False)]"
   ]
  },
  {
   "cell_type": "code",
   "execution_count": 14,
   "id": "692df223",
   "metadata": {},
   "outputs": [
    {
     "name": "stdout",
     "output_type": "stream",
     "text": [
      "<class 'pandas.core.frame.DataFrame'>\n",
      "Int64Index: 231333 entries, 214 to 1681863\n",
      "Data columns (total 35 columns):\n",
      " #   Column                Non-Null Count   Dtype         \n",
      "---  ------                --------------   -----         \n",
      " 0   role_name             231333 non-null  object        \n",
      " 1   user_building_id      231333 non-null  int64         \n",
      " 2   user_building_name    231333 non-null  object        \n",
      " 3   username              231333 non-null  object        \n",
      " 4   email                 231329 non-null  object        \n",
      " 5   schoology_user_id     231333 non-null  int64         \n",
      " 6   unique_user_id        230177 non-null  object        \n",
      " 7   action_type           231333 non-null  object        \n",
      " 8   item_type             231333 non-null  object        \n",
      " 9   item_id               231333 non-null  float64       \n",
      " 10  item_name             231326 non-null  object        \n",
      " 11  course_name           231333 non-null  object        \n",
      " 12  course_code           231333 non-null  object        \n",
      " 13  section_name          231333 non-null  object        \n",
      " 14  last_event_timestamp  231333 non-null  object        \n",
      " 15  event_count           231333 non-null  int64         \n",
      " 16  role_id               231333 non-null  int64         \n",
      " 17  user_building_code    0 non-null       float64       \n",
      " 18  last_name             231333 non-null  object        \n",
      " 19  first_name            231333 non-null  object        \n",
      " 20  device_type           231333 non-null  object        \n",
      " 21  item_building_id      231333 non-null  float64       \n",
      " 22  item_building_name    231333 non-null  object        \n",
      " 23  item_building_code    0 non-null       float64       \n",
      " 24  item_parent_type      231333 non-null  object        \n",
      " 25  group_id              0 non-null       float64       \n",
      " 26  group_name            0 non-null       object        \n",
      " 27  course_id             231333 non-null  float64       \n",
      " 28  section_id            231333 non-null  float64       \n",
      " 29  section_school_code   230649 non-null  float64       \n",
      " 30  section_code          0 non-null       float64       \n",
      " 31  month                 231333 non-null  int64         \n",
      " 32  date                  231333 non-null  datetime64[ns]\n",
      " 33  timestamp             231333 non-null  object        \n",
      " 34  time spent (seconds)  19541 non-null   float64       \n",
      "dtypes: datetime64[ns](1), float64(10), int64(5), object(19)\n",
      "memory usage: 63.5+ MB\n"
     ]
    }
   ],
   "source": [
    "df_coursename_grammar.info()"
   ]
  },
  {
   "cell_type": "code",
   "execution_count": 15,
   "id": "5c3b25f8",
   "metadata": {},
   "outputs": [],
   "source": [
    "# Science, no filter: 125,354 rows\n",
    "df_coursename_science = df_January_NotNull.loc[df_January_NotNull['course_name'].str.contains(\"science\", case = False)]"
   ]
  },
  {
   "cell_type": "code",
   "execution_count": 16,
   "id": "7ad366e5",
   "metadata": {},
   "outputs": [
    {
     "name": "stdout",
     "output_type": "stream",
     "text": [
      "<class 'pandas.core.frame.DataFrame'>\n",
      "Int64Index: 125354 entries, 21 to 1681907\n",
      "Data columns (total 35 columns):\n",
      " #   Column                Non-Null Count   Dtype         \n",
      "---  ------                --------------   -----         \n",
      " 0   role_name             125354 non-null  object        \n",
      " 1   user_building_id      125354 non-null  int64         \n",
      " 2   user_building_name    125354 non-null  object        \n",
      " 3   username              125354 non-null  object        \n",
      " 4   email                 125351 non-null  object        \n",
      " 5   schoology_user_id     125354 non-null  int64         \n",
      " 6   unique_user_id        124922 non-null  object        \n",
      " 7   action_type           125354 non-null  object        \n",
      " 8   item_type             125354 non-null  object        \n",
      " 9   item_id               125330 non-null  float64       \n",
      " 10  item_name             125145 non-null  object        \n",
      " 11  course_name           125354 non-null  object        \n",
      " 12  course_code           125354 non-null  object        \n",
      " 13  section_name          125354 non-null  object        \n",
      " 14  last_event_timestamp  125354 non-null  object        \n",
      " 15  event_count           125354 non-null  int64         \n",
      " 16  role_id               125354 non-null  int64         \n",
      " 17  user_building_code    0 non-null       float64       \n",
      " 18  last_name             125354 non-null  object        \n",
      " 19  first_name            125354 non-null  object        \n",
      " 20  device_type           125354 non-null  object        \n",
      " 21  item_building_id      125354 non-null  float64       \n",
      " 22  item_building_name    125354 non-null  object        \n",
      " 23  item_building_code    0 non-null       float64       \n",
      " 24  item_parent_type      125354 non-null  object        \n",
      " 25  group_id              0 non-null       float64       \n",
      " 26  group_name            0 non-null       object        \n",
      " 27  course_id             125354 non-null  float64       \n",
      " 28  section_id            125354 non-null  float64       \n",
      " 29  section_school_code   125100 non-null  float64       \n",
      " 30  section_code          254 non-null     float64       \n",
      " 31  month                 125354 non-null  int64         \n",
      " 32  date                  125354 non-null  datetime64[ns]\n",
      " 33  timestamp             125354 non-null  object        \n",
      " 34  time spent (seconds)  19328 non-null   float64       \n",
      "dtypes: datetime64[ns](1), float64(10), int64(5), object(19)\n",
      "memory usage: 34.4+ MB\n"
     ]
    }
   ],
   "source": [
    "df_coursename_science.info()"
   ]
  },
  {
   "cell_type": "code",
   "execution_count": 17,
   "id": "a18409f8",
   "metadata": {},
   "outputs": [],
   "source": [
    "# Reading, no filter: 187,345 rows\n",
    "df_coursename_reading = df_January_NotNull.loc[df_January_NotNull['course_name'].str.contains(\"reading\", case = False)]"
   ]
  },
  {
   "cell_type": "code",
   "execution_count": 18,
   "id": "53a8689c",
   "metadata": {},
   "outputs": [
    {
     "name": "stdout",
     "output_type": "stream",
     "text": [
      "<class 'pandas.core.frame.DataFrame'>\n",
      "Int64Index: 187345 entries, 301 to 1681922\n",
      "Data columns (total 35 columns):\n",
      " #   Column                Non-Null Count   Dtype         \n",
      "---  ------                --------------   -----         \n",
      " 0   role_name             187345 non-null  object        \n",
      " 1   user_building_id      187345 non-null  int64         \n",
      " 2   user_building_name    187345 non-null  object        \n",
      " 3   username              187345 non-null  object        \n",
      " 4   email                 187343 non-null  object        \n",
      " 5   schoology_user_id     187345 non-null  int64         \n",
      " 6   unique_user_id        186865 non-null  object        \n",
      " 7   action_type           187345 non-null  object        \n",
      " 8   item_type             187345 non-null  object        \n",
      " 9   item_id               187345 non-null  float64       \n",
      " 10  item_name             187325 non-null  object        \n",
      " 11  course_name           187345 non-null  object        \n",
      " 12  course_code           187345 non-null  object        \n",
      " 13  section_name          187345 non-null  object        \n",
      " 14  last_event_timestamp  187345 non-null  object        \n",
      " 15  event_count           187345 non-null  int64         \n",
      " 16  role_id               187345 non-null  int64         \n",
      " 17  user_building_code    0 non-null       float64       \n",
      " 18  last_name             187345 non-null  object        \n",
      " 19  first_name            187345 non-null  object        \n",
      " 20  device_type           187345 non-null  object        \n",
      " 21  item_building_id      187345 non-null  float64       \n",
      " 22  item_building_name    187345 non-null  object        \n",
      " 23  item_building_code    0 non-null       float64       \n",
      " 24  item_parent_type      187345 non-null  object        \n",
      " 25  group_id              0 non-null       float64       \n",
      " 26  group_name            0 non-null       object        \n",
      " 27  course_id             187345 non-null  float64       \n",
      " 28  section_id            187345 non-null  float64       \n",
      " 29  section_school_code   187345 non-null  float64       \n",
      " 30  section_code          0 non-null       float64       \n",
      " 31  month                 187345 non-null  int64         \n",
      " 32  date                  187345 non-null  datetime64[ns]\n",
      " 33  timestamp             187345 non-null  object        \n",
      " 34  time spent (seconds)  19109 non-null   float64       \n",
      "dtypes: datetime64[ns](1), float64(10), int64(5), object(19)\n",
      "memory usage: 51.5+ MB\n"
     ]
    }
   ],
   "source": [
    "df_coursename_reading.info()"
   ]
  },
  {
   "cell_type": "markdown",
   "id": "88a3d33f",
   "metadata": {},
   "source": [
    "Necessary columns - to remove duplicates- instead of by day, taking date out - all are Jan:\n",
    "- role_name <br>\n",
    "- user_building_name <br>\n",
    "- course_name <br>\n",
    "- date <br>\n"
   ]
  },
  {
   "cell_type": "markdown",
   "id": "841e3627",
   "metadata": {},
   "source": [
    "<H3> Sorting each subject by required fields"
   ]
  },
  {
   "cell_type": "code",
   "execution_count": 19,
   "id": "61e88535",
   "metadata": {},
   "outputs": [],
   "source": [
    "# 4,985 rows\n",
    "df_grammar_filter = df_coursename_grammar.filter(['role_name','schoology_user_id', 'user_building_name', 'course_name'])\n",
    "df_grammar = df_grammar_filter.drop_duplicates()"
   ]
  },
  {
   "cell_type": "code",
   "execution_count": 20,
   "id": "bb081777",
   "metadata": {},
   "outputs": [],
   "source": [
    "# 6,303 rows\n",
    "df_science_filter = df_coursename_science.filter(['role_name', 'schoology_user_id', 'user_building_name', 'course_name'])\n",
    "df_science = df_science_filter.drop_duplicates()"
   ]
  },
  {
   "cell_type": "code",
   "execution_count": 21,
   "id": "8c40036a",
   "metadata": {},
   "outputs": [],
   "source": [
    "# 4,579 rows\n",
    "df_reading_filter = df_coursename_reading.filter(['role_name', 'schoology_user_id', 'user_building_name', 'course_name'])\n",
    "df_reading = df_reading_filter.drop_duplicates()"
   ]
  },
  {
   "cell_type": "code",
   "execution_count": 22,
   "id": "1fcce0ab",
   "metadata": {},
   "outputs": [
    {
     "data": {
      "text/html": [
       "<div>\n",
       "<style scoped>\n",
       "    .dataframe tbody tr th:only-of-type {\n",
       "        vertical-align: middle;\n",
       "    }\n",
       "\n",
       "    .dataframe tbody tr th {\n",
       "        vertical-align: top;\n",
       "    }\n",
       "\n",
       "    .dataframe thead th {\n",
       "        text-align: right;\n",
       "    }\n",
       "</style>\n",
       "<table border=\"1\" class=\"dataframe\">\n",
       "  <thead>\n",
       "    <tr style=\"text-align: right;\">\n",
       "      <th></th>\n",
       "      <th>role_name</th>\n",
       "      <th>schoology_user_id</th>\n",
       "      <th>user_building_name</th>\n",
       "      <th>course_name</th>\n",
       "    </tr>\n",
       "  </thead>\n",
       "  <tbody>\n",
       "    <tr>\n",
       "      <th>301</th>\n",
       "      <td>Teacher</td>\n",
       "      <td>93455379</td>\n",
       "      <td>Legacy Traditional School - NW Tucson</td>\n",
       "      <td>Reading</td>\n",
       "    </tr>\n",
       "    <tr>\n",
       "      <th>731</th>\n",
       "      <td>Teacher</td>\n",
       "      <td>93455042</td>\n",
       "      <td>Legacy Traditional School - Avondale</td>\n",
       "      <td>Reading</td>\n",
       "    </tr>\n",
       "    <tr>\n",
       "      <th>2973</th>\n",
       "      <td>Student</td>\n",
       "      <td>94774635</td>\n",
       "      <td>Legacy Traditional School - Avondale</td>\n",
       "      <td>Reading</td>\n",
       "    </tr>\n",
       "    <tr>\n",
       "      <th>4840</th>\n",
       "      <td>Teacher</td>\n",
       "      <td>112828455</td>\n",
       "      <td>Legacy Online Academy</td>\n",
       "      <td>Reading</td>\n",
       "    </tr>\n",
       "    <tr>\n",
       "      <th>5558</th>\n",
       "      <td>Teacher</td>\n",
       "      <td>102009255</td>\n",
       "      <td>Legacy Traditional School - Glendale</td>\n",
       "      <td>Reading</td>\n",
       "    </tr>\n",
       "    <tr>\n",
       "      <th>...</th>\n",
       "      <td>...</td>\n",
       "      <td>...</td>\n",
       "      <td>...</td>\n",
       "      <td>...</td>\n",
       "    </tr>\n",
       "    <tr>\n",
       "      <th>1677854</th>\n",
       "      <td>Student</td>\n",
       "      <td>94789946</td>\n",
       "      <td>Legacy Traditional School - Peoria</td>\n",
       "      <td>Reading</td>\n",
       "    </tr>\n",
       "    <tr>\n",
       "      <th>1679898</th>\n",
       "      <td>Student</td>\n",
       "      <td>94778906</td>\n",
       "      <td>Legacy Traditional School - Goodyear</td>\n",
       "      <td>Reading</td>\n",
       "    </tr>\n",
       "    <tr>\n",
       "      <th>1680218</th>\n",
       "      <td>Student</td>\n",
       "      <td>94775460</td>\n",
       "      <td>Legacy Traditional School - Casa Grande</td>\n",
       "      <td>Reading</td>\n",
       "    </tr>\n",
       "    <tr>\n",
       "      <th>1681466</th>\n",
       "      <td>Student</td>\n",
       "      <td>94779976</td>\n",
       "      <td>Legacy Traditional School - Laveen</td>\n",
       "      <td>Reading</td>\n",
       "    </tr>\n",
       "    <tr>\n",
       "      <th>1681724</th>\n",
       "      <td>Student</td>\n",
       "      <td>94787641</td>\n",
       "      <td>Legacy Traditional School - West Surprise</td>\n",
       "      <td>Reading</td>\n",
       "    </tr>\n",
       "  </tbody>\n",
       "</table>\n",
       "<p>4579 rows × 4 columns</p>\n",
       "</div>"
      ],
      "text/plain": [
       "        role_name  schoology_user_id  \\\n",
       "301       Teacher           93455379   \n",
       "731       Teacher           93455042   \n",
       "2973      Student           94774635   \n",
       "4840      Teacher          112828455   \n",
       "5558      Teacher          102009255   \n",
       "...           ...                ...   \n",
       "1677854   Student           94789946   \n",
       "1679898   Student           94778906   \n",
       "1680218   Student           94775460   \n",
       "1681466   Student           94779976   \n",
       "1681724   Student           94787641   \n",
       "\n",
       "                                user_building_name course_name  \n",
       "301          Legacy Traditional School - NW Tucson     Reading  \n",
       "731           Legacy Traditional School - Avondale     Reading  \n",
       "2973          Legacy Traditional School - Avondale     Reading  \n",
       "4840                         Legacy Online Academy     Reading  \n",
       "5558          Legacy Traditional School - Glendale     Reading  \n",
       "...                                            ...         ...  \n",
       "1677854         Legacy Traditional School - Peoria     Reading  \n",
       "1679898       Legacy Traditional School - Goodyear     Reading  \n",
       "1680218    Legacy Traditional School - Casa Grande     Reading  \n",
       "1681466         Legacy Traditional School - Laveen     Reading  \n",
       "1681724  Legacy Traditional School - West Surprise     Reading  \n",
       "\n",
       "[4579 rows x 4 columns]"
      ]
     },
     "execution_count": 22,
     "metadata": {},
     "output_type": "execute_result"
    }
   ],
   "source": [
    "# 15,707 rows\n",
    "df_reading\n",
    "\n"
   ]
  },
  {
   "cell_type": "code",
   "execution_count": 23,
   "id": "f9e620cd",
   "metadata": {},
   "outputs": [],
   "source": [
    "# pd.concat([t1, t2, t3, t4, t5])\n",
    "df_Jan_ScienceReadingGrammar = pd.concat([df_reading, df_science, df_grammar])"
   ]
  },
  {
   "cell_type": "code",
   "execution_count": 24,
   "id": "3fdf304d",
   "metadata": {},
   "outputs": [
    {
     "data": {
      "text/html": [
       "<div>\n",
       "<style scoped>\n",
       "    .dataframe tbody tr th:only-of-type {\n",
       "        vertical-align: middle;\n",
       "    }\n",
       "\n",
       "    .dataframe tbody tr th {\n",
       "        vertical-align: top;\n",
       "    }\n",
       "\n",
       "    .dataframe thead th {\n",
       "        text-align: right;\n",
       "    }\n",
       "</style>\n",
       "<table border=\"1\" class=\"dataframe\">\n",
       "  <thead>\n",
       "    <tr style=\"text-align: right;\">\n",
       "      <th></th>\n",
       "      <th>role_name</th>\n",
       "      <th>schoology_user_id</th>\n",
       "      <th>user_building_name</th>\n",
       "      <th>course_name</th>\n",
       "    </tr>\n",
       "  </thead>\n",
       "  <tbody>\n",
       "    <tr>\n",
       "      <th>301</th>\n",
       "      <td>Teacher</td>\n",
       "      <td>93455379</td>\n",
       "      <td>Legacy Traditional School - NW Tucson</td>\n",
       "      <td>Reading</td>\n",
       "    </tr>\n",
       "    <tr>\n",
       "      <th>731</th>\n",
       "      <td>Teacher</td>\n",
       "      <td>93455042</td>\n",
       "      <td>Legacy Traditional School - Avondale</td>\n",
       "      <td>Reading</td>\n",
       "    </tr>\n",
       "    <tr>\n",
       "      <th>2973</th>\n",
       "      <td>Student</td>\n",
       "      <td>94774635</td>\n",
       "      <td>Legacy Traditional School - Avondale</td>\n",
       "      <td>Reading</td>\n",
       "    </tr>\n",
       "    <tr>\n",
       "      <th>4840</th>\n",
       "      <td>Teacher</td>\n",
       "      <td>112828455</td>\n",
       "      <td>Legacy Online Academy</td>\n",
       "      <td>Reading</td>\n",
       "    </tr>\n",
       "    <tr>\n",
       "      <th>5558</th>\n",
       "      <td>Teacher</td>\n",
       "      <td>102009255</td>\n",
       "      <td>Legacy Traditional School - Glendale</td>\n",
       "      <td>Reading</td>\n",
       "    </tr>\n",
       "    <tr>\n",
       "      <th>...</th>\n",
       "      <td>...</td>\n",
       "      <td>...</td>\n",
       "      <td>...</td>\n",
       "      <td>...</td>\n",
       "    </tr>\n",
       "    <tr>\n",
       "      <th>1680315</th>\n",
       "      <td>Student</td>\n",
       "      <td>94774775</td>\n",
       "      <td>Legacy Traditional School - Avondale</td>\n",
       "      <td>Grammar/Writing</td>\n",
       "    </tr>\n",
       "    <tr>\n",
       "      <th>1680393</th>\n",
       "      <td>Student</td>\n",
       "      <td>113956033</td>\n",
       "      <td>Legacy Traditional School - Queen Creek</td>\n",
       "      <td>Grammar/Writing</td>\n",
       "    </tr>\n",
       "    <tr>\n",
       "      <th>1680795</th>\n",
       "      <td>Student</td>\n",
       "      <td>94787785</td>\n",
       "      <td>Legacy Traditional School - West Surprise</td>\n",
       "      <td>Grammar/Writing</td>\n",
       "    </tr>\n",
       "    <tr>\n",
       "      <th>1680858</th>\n",
       "      <td>Student</td>\n",
       "      <td>109086743</td>\n",
       "      <td>Legacy Traditional School - Surprise</td>\n",
       "      <td>Grammar/Writing</td>\n",
       "    </tr>\n",
       "    <tr>\n",
       "      <th>1681336</th>\n",
       "      <td>Student</td>\n",
       "      <td>94787641</td>\n",
       "      <td>Legacy Traditional School - West Surprise</td>\n",
       "      <td>Grammar/Writing</td>\n",
       "    </tr>\n",
       "  </tbody>\n",
       "</table>\n",
       "<p>15867 rows × 4 columns</p>\n",
       "</div>"
      ],
      "text/plain": [
       "        role_name  schoology_user_id  \\\n",
       "301       Teacher           93455379   \n",
       "731       Teacher           93455042   \n",
       "2973      Student           94774635   \n",
       "4840      Teacher          112828455   \n",
       "5558      Teacher          102009255   \n",
       "...           ...                ...   \n",
       "1680315   Student           94774775   \n",
       "1680393   Student          113956033   \n",
       "1680795   Student           94787785   \n",
       "1680858   Student          109086743   \n",
       "1681336   Student           94787641   \n",
       "\n",
       "                                user_building_name      course_name  \n",
       "301          Legacy Traditional School - NW Tucson          Reading  \n",
       "731           Legacy Traditional School - Avondale          Reading  \n",
       "2973          Legacy Traditional School - Avondale          Reading  \n",
       "4840                         Legacy Online Academy          Reading  \n",
       "5558          Legacy Traditional School - Glendale          Reading  \n",
       "...                                            ...              ...  \n",
       "1680315       Legacy Traditional School - Avondale  Grammar/Writing  \n",
       "1680393    Legacy Traditional School - Queen Creek  Grammar/Writing  \n",
       "1680795  Legacy Traditional School - West Surprise  Grammar/Writing  \n",
       "1680858       Legacy Traditional School - Surprise  Grammar/Writing  \n",
       "1681336  Legacy Traditional School - West Surprise  Grammar/Writing  \n",
       "\n",
       "[15867 rows x 4 columns]"
      ]
     },
     "execution_count": 24,
     "metadata": {},
     "output_type": "execute_result"
    }
   ],
   "source": [
    "# 57047 rows, as predicted\n",
    "df_Jan_ScienceReadingGrammar"
   ]
  },
  {
   "cell_type": "code",
   "execution_count": 25,
   "id": "2e7705bb",
   "metadata": {},
   "outputs": [],
   "source": [
    "df_Jan_ScienceReadingGrammar.to_csv('ScienceReadingGrammarJanuaryMonthly.csv', encoding='utf-8', index = False)"
   ]
  }
 ],
 "metadata": {
  "kernelspec": {
   "display_name": "Python 3 (ipykernel)",
   "language": "python",
   "name": "python3"
  },
  "language_info": {
   "codemirror_mode": {
    "name": "ipython",
    "version": 3
   },
   "file_extension": ".py",
   "mimetype": "text/x-python",
   "name": "python",
   "nbconvert_exporter": "python",
   "pygments_lexer": "ipython3",
   "version": "3.9.7"
  }
 },
 "nbformat": 4,
 "nbformat_minor": 5
}
