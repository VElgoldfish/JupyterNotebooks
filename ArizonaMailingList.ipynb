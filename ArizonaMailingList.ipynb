{
 "cells": [
  {
   "cell_type": "code",
   "execution_count": null,
   "id": "405c0203-b619-4545-ad2e-79f9c64f43a3",
   "metadata": {},
   "outputs": [],
   "source": [
    "import pandas as pd\n",
    "from io import StringIO\n",
    "import numpy as np"
   ]
  },
  {
   "cell_type": "markdown",
   "id": "667320bf",
   "metadata": {},
   "source": [
    "<H4> Files Required: Students_export.csv and ContactsPowerQuery.csv"
   ]
  },
  {
   "cell_type": "code",
   "execution_count": null,
   "id": "b14df6bc-5554-4bd6-8414-97869ece6931",
   "metadata": {},
   "outputs": [],
   "source": [
    "Students = pd.read_csv(\"Students_export.csv\", encoding='latin-1')"
   ]
  },
  {
   "cell_type": "code",
   "execution_count": null,
   "id": "21ac368b-1d08-41fa-84a6-40cadc4f5713",
   "metadata": {
    "jupyter": {
     "outputs_hidden": true
    },
    "scrolled": true,
    "tags": []
   },
   "outputs": [],
   "source": [
    "Students.info()"
   ]
  },
  {
   "cell_type": "markdown",
   "id": "cf1697b8-3d05-48c0-8758-c5851f45f054",
   "metadata": {
    "jupyter": {
     "source_hidden": true
    },
    "tags": []
   },
   "source": [
    "<H3> Create a dataframe named <b>StudentGrade</b> that is only STUDENTS.Student_Number & STUDENTS.Grade_Level"
   ]
  },
  {
   "cell_type": "markdown",
   "id": "8be1d699-585b-4d4c-abdd-76e7343d11fc",
   "metadata": {},
   "source": [
    "<H3> Make a dataframe with School, Student Number, and Grade."
   ]
  },
  {
   "cell_type": "code",
   "execution_count": null,
   "id": "2b7231c1-0f8a-49dd-8f3d-a414d8102db8",
   "metadata": {},
   "outputs": [],
   "source": [
    "StudentGrade = Students.filter(['STUDENTS.SchoolID', 'STUDENTS.Student_Number','STUDENTS.Grade_Level'])"
   ]
  },
  {
   "cell_type": "code",
   "execution_count": null,
   "id": "5e232e70-c0aa-452f-9e0e-ba46768feda2",
   "metadata": {
    "jupyter": {
     "outputs_hidden": true
    },
    "tags": []
   },
   "outputs": [],
   "source": [
    "StudentGrade"
   ]
  },
  {
   "cell_type": "code",
   "execution_count": null,
   "id": "a1d2be22-00ca-44e2-bf17-181d503b878f",
   "metadata": {},
   "outputs": [],
   "source": [
    "ContactsFile = pd.read_csv(\"ContactsPowerQuery.csv\", encoding='latin-1')"
   ]
  },
  {
   "cell_type": "code",
   "execution_count": null,
   "id": "af8d8f55-d47a-4492-a663-dab1fc54f67b",
   "metadata": {
    "tags": []
   },
   "outputs": [],
   "source": [
    "ContactsFile.info()"
   ]
  },
  {
   "cell_type": "markdown",
   "id": "fc3f5a9b-d74b-437a-847c-836894ba9b06",
   "metadata": {},
   "source": [
    "<H3> Create a dataframe named <b>EmailContacts</b> that includes 'Email Address' & 'Student Number'"
   ]
  },
  {
   "cell_type": "markdown",
   "id": "4d440333-7d6b-4bcf-94b8-2da946fb6bae",
   "metadata": {},
   "source": [
    "<H5> Custody Flag = 1 for the appropriate parties"
   ]
  },
  {
   "cell_type": "code",
   "execution_count": null,
   "id": "c01523ac-0086-4268-a969-71e6bb5fb4a2",
   "metadata": {},
   "outputs": [],
   "source": [
    "EmailContacts = ContactsFile.filter(['Student Number','Email Address','Custody Flag'])"
   ]
  },
  {
   "cell_type": "code",
   "execution_count": null,
   "id": "359195fd-bb9d-40ca-b671-59fdc9f3e77c",
   "metadata": {},
   "outputs": [],
   "source": [
    "(ContactsFile['Custody Flag'].values == 1).sum()"
   ]
  },
  {
   "cell_type": "code",
   "execution_count": null,
   "id": "2d3d4a87-8f4c-4b22-aaa8-663df07653ac",
   "metadata": {},
   "outputs": [],
   "source": [
    "ContactsFile['Email Address'].isna().sum()"
   ]
  },
  {
   "cell_type": "code",
   "execution_count": null,
   "id": "d44ac79a-2937-45ef-a391-58e87d0416f0",
   "metadata": {},
   "outputs": [],
   "source": [
    "CustodialEmailContact = ContactsFile.loc[ContactsFile['Custody Flag'].values == 1]"
   ]
  },
  {
   "cell_type": "code",
   "execution_count": null,
   "id": "be01db32-6e69-45c0-bd07-c3eb29b4c300",
   "metadata": {},
   "outputs": [],
   "source": [
    "CustodialEmailContact.count()"
   ]
  },
  {
   "cell_type": "markdown",
   "id": "875ca6ba-deaf-4b0e-9376-32f5b0b01792",
   "metadata": {},
   "source": [
    "<H3> Drop blank email addresses from contacts list"
   ]
  },
  {
   "cell_type": "code",
   "execution_count": null,
   "id": "920410a1-c38e-4d0d-b43c-12943e88e490",
   "metadata": {},
   "outputs": [],
   "source": [
    "CustodialEmailContact['Email Address'].isna().sum()"
   ]
  },
  {
   "cell_type": "code",
   "execution_count": null,
   "id": "9c5adb36-eea2-4317-9bf7-aaacccb1f6b6",
   "metadata": {
    "tags": []
   },
   "outputs": [],
   "source": [
    "CustodialEmailContact.tail()"
   ]
  },
  {
   "cell_type": "code",
   "execution_count": null,
   "id": "745b7c25-6375-48b9-a9ea-f2641f1484f8",
   "metadata": {},
   "outputs": [],
   "source": [
    "CustodialEmailContact = CustodialEmailContact.reset_index(drop=True)"
   ]
  },
  {
   "cell_type": "code",
   "execution_count": null,
   "id": "d7149fc3",
   "metadata": {
    "scrolled": true
   },
   "outputs": [],
   "source": [
    "CustodialEmailContact"
   ]
  },
  {
   "cell_type": "markdown",
   "id": "58ec4c9e-d1e1-4cec-b4c8-7ff23af49bcb",
   "metadata": {},
   "source": [
    "<H2> Time to drop NaN values"
   ]
  },
  {
   "cell_type": "code",
   "execution_count": null,
   "id": "32cc2686-6100-4718-a60e-ac6e3bedf19e",
   "metadata": {
    "tags": []
   },
   "outputs": [],
   "source": [
    "NoNullEmails = CustodialEmailContact.dropna(subset=['Email Address'])"
   ]
  },
  {
   "cell_type": "code",
   "execution_count": null,
   "id": "36219d77-0e87-4f0e-b86f-1da860434093",
   "metadata": {},
   "outputs": [],
   "source": [
    "NoNullEmails.info()"
   ]
  },
  {
   "cell_type": "code",
   "execution_count": null,
   "id": "76c1a2f7-4c6a-4ab5-b347-d87ec1fb8af2",
   "metadata": {
    "jupyter": {
     "outputs_hidden": true
    },
    "scrolled": true,
    "tags": []
   },
   "outputs": [],
   "source": [
    "NoNullEmails"
   ]
  },
  {
   "cell_type": "code",
   "execution_count": null,
   "id": "5fca457d-64de-4389-8719-f542c08a3664",
   "metadata": {
    "jupyter": {
     "outputs_hidden": true
    },
    "tags": []
   },
   "outputs": [],
   "source": [
    "NoNullEmails.info()"
   ]
  },
  {
   "cell_type": "markdown",
   "id": "e15b7bab-fd9e-43b5-b7f0-70e7a9b0b3bd",
   "metadata": {},
   "source": [
    "<H3> Combine the dataframes StudentGrade and NoNullsEmails on Student Number"
   ]
  },
  {
   "cell_type": "code",
   "execution_count": null,
   "id": "f66b22b0",
   "metadata": {},
   "outputs": [],
   "source": [
    "# SG_Copy is School, Student_Number, Grade\n",
    "# EmailContacts is Email Address, Student Number"
   ]
  },
  {
   "cell_type": "code",
   "execution_count": null,
   "id": "f87b7160-f959-4805-8e58-184ba490e152",
   "metadata": {},
   "outputs": [],
   "source": [
    "# Make copies of each dataframe"
   ]
  },
  {
   "cell_type": "code",
   "execution_count": null,
   "id": "8e27c6a9-09b4-426c-93d9-3d969cac81a5",
   "metadata": {},
   "outputs": [],
   "source": [
    "SG_copy = StudentGrade.copy()"
   ]
  },
  {
   "cell_type": "code",
   "execution_count": null,
   "id": "aa77ee56-ce28-402f-b2dd-21469db1f77a",
   "metadata": {},
   "outputs": [],
   "source": [
    "CustodialEmail_copy = NoNullEmails.copy()"
   ]
  },
  {
   "cell_type": "code",
   "execution_count": null,
   "id": "00f8e459",
   "metadata": {},
   "outputs": [],
   "source": [
    "EmailContacts = CustodialEmail_copy[['Email Address','Student Number']]"
   ]
  },
  {
   "cell_type": "code",
   "execution_count": null,
   "id": "a2e266a0-b36a-470e-980a-ace5540aec49",
   "metadata": {},
   "outputs": [],
   "source": [
    "SG_copy"
   ]
  },
  {
   "cell_type": "code",
   "execution_count": null,
   "id": "adf735ec",
   "metadata": {},
   "outputs": [],
   "source": [
    "EmailContacts"
   ]
  },
  {
   "cell_type": "code",
   "execution_count": null,
   "id": "e1b41eda-058f-4c55-84e2-e41ea2ea2a0e",
   "metadata": {
    "scrolled": true
   },
   "outputs": [],
   "source": [
    "CustodialEmail_copy"
   ]
  },
  {
   "cell_type": "code",
   "execution_count": null,
   "id": "5d25f21f-6382-4a80-a572-e229fa6b92ee",
   "metadata": {
    "jupyter": {
     "outputs_hidden": true
    },
    "tags": []
   },
   "outputs": [],
   "source": [
    "SG_copy.set_index('STUDENTS.Student_Number').join(EmailContacts.set_index('Student Number'))"
   ]
  },
  {
   "cell_type": "code",
   "execution_count": null,
   "id": "260cca62-5557-4d69-b4a2-d8f3079e8e30",
   "metadata": {
    "jupyter": {
     "outputs_hidden": true
    },
    "tags": []
   },
   "outputs": [],
   "source": [
    "SG_copy.set_index('STUDENTS.Student_Number').join(CustodialEmail_copy.set_index('Student Number'))"
   ]
  },
  {
   "cell_type": "code",
   "execution_count": null,
   "id": "87b8d49a-6b87-4ec0-91ea-92f8bbc3311c",
   "metadata": {},
   "outputs": [],
   "source": [
    "merged = pd.merge(EmailContacts, SG_copy, left_on= \"Student Number\", right_on= 'STUDENTS.Student_Number', how= \"inner\")"
   ]
  },
  {
   "cell_type": "code",
   "execution_count": null,
   "id": "90978026-3a44-4726-92d2-8956e0fd5d56",
   "metadata": {
    "tags": []
   },
   "outputs": [],
   "source": [
    "merged.info()"
   ]
  },
  {
   "cell_type": "code",
   "execution_count": null,
   "id": "ef9ba4d0",
   "metadata": {},
   "outputs": [],
   "source": [
    "merged.rename(columns={'STUDENTS.SchoolID': 'school_sis_id', 'STUDENTS.Grade_Level': 'grade', 'Email Address': 'email'}, inplace=True)"
   ]
  },
  {
   "cell_type": "code",
   "execution_count": null,
   "id": "33fff142-999e-431d-9771-dddfed7600f5",
   "metadata": {
    "jupyter": {
     "outputs_hidden": true
    },
    "tags": []
   },
   "outputs": [],
   "source": [
    "merged"
   ]
  },
  {
   "cell_type": "markdown",
   "id": "cfa1693e",
   "metadata": {},
   "source": [
    "<H3> Email Count by Grade"
   ]
  },
  {
   "cell_type": "code",
   "execution_count": null,
   "id": "e4516ced",
   "metadata": {},
   "outputs": [],
   "source": [
    "merged.grade.value_counts()"
   ]
  },
  {
   "cell_type": "markdown",
   "id": "57372d95",
   "metadata": {},
   "source": [
    "<H3> Change column value for 0 (Kindergarten) to KG"
   ]
  },
  {
   "cell_type": "code",
   "execution_count": null,
   "id": "83f9406a",
   "metadata": {},
   "outputs": [],
   "source": [
    "merged['grade'] = np.where((merged.grade == 0), 'KG', merged.grade)"
   ]
  },
  {
   "cell_type": "code",
   "execution_count": null,
   "id": "c4f91a73",
   "metadata": {},
   "outputs": [],
   "source": [
    "merged"
   ]
  },
  {
   "cell_type": "markdown",
   "id": "baa9e31c-3592-475c-b6c2-98d042464dd8",
   "metadata": {},
   "source": [
    "<H4> Create a dataframe that is only school id, grade, email address"
   ]
  },
  {
   "cell_type": "code",
   "execution_count": null,
   "id": "89a8a252-f10e-4ebe-a751-458b64a4dbb1",
   "metadata": {},
   "outputs": [],
   "source": [
    "MailingList = merged[['school_sis_id', 'grade', 'email',]].copy()"
   ]
  },
  {
   "cell_type": "code",
   "execution_count": null,
   "id": "efe4c729",
   "metadata": {},
   "outputs": [],
   "source": [
    "MailingList"
   ]
  },
  {
   "cell_type": "code",
   "execution_count": null,
   "id": "dd367891-4427-4bd5-bccd-fb5aa968ab61",
   "metadata": {},
   "outputs": [],
   "source": [
    "MailingList.info()"
   ]
  },
  {
   "cell_type": "code",
   "execution_count": null,
   "id": "05ab975c",
   "metadata": {},
   "outputs": [],
   "source": [
    "MailingList.rename(columns={'STUDENTS.SchoolID': 'school_sis_id', 'STUDENTS.Grade_Level': 'grade', 'Email Address': 'email'}, inplace=True)"
   ]
  },
  {
   "cell_type": "code",
   "execution_count": null,
   "id": "459e309f",
   "metadata": {},
   "outputs": [],
   "source": [
    "MailingList.to_csv('AZEmailAddresses.csv', index=False, encoding='utf-8')"
   ]
  }
 ],
 "metadata": {
  "kernelspec": {
   "display_name": "Python 3 (ipykernel)",
   "language": "python",
   "name": "python3"
  },
  "language_info": {
   "codemirror_mode": {
    "name": "ipython",
    "version": 3
   },
   "file_extension": ".py",
   "mimetype": "text/x-python",
   "name": "python",
   "nbconvert_exporter": "python",
   "pygments_lexer": "ipython3",
   "version": "3.9.7"
  }
 },
 "nbformat": 4,
 "nbformat_minor": 5
}
