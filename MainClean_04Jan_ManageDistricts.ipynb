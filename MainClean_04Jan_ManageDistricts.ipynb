{
 "cells": [
  {
   "cell_type": "code",
   "execution_count": null,
   "id": "cd137c48",
   "metadata": {},
   "outputs": [],
   "source": [
    "import pandas as pd\n",
    "import numpy as np\n",
    "from io import StringIO"
   ]
  },
  {
   "cell_type": "markdown",
   "id": "6428e9ba",
   "metadata": {},
   "source": [
    "Files imported from SIS: Students_export.csv, Studentrace.csv <br>\n",
    "Files imported from StudentContact_Total3 script: StudentContactsBeta.csv\n",
    "File exported: eIEPPROStudentDemographics.csv\n",
    "\n",
    "<H4> Things to do: <br>\n",
    "* encapsulate all text in quotes (needs to be done) <br>\n",
    "* Add student demographic info & Parent/Guardian contacts afterwards"
   ]
  },
  {
   "cell_type": "markdown",
   "id": "0940ed8a",
   "metadata": {},
   "source": [
    "<H5> StudentRace Table: converted to binary values \n",
    "    \n",
    "| STUDENTRACE.StudentID |STUDENTRACE.RaceCd | ---|\n",
    "|--- |--- |--- |\n",
    "| Some# | Possibilities are: |\n",
    "| AS | Asian | \n",
    "| WH | White | \n",
    "| BL | Black | \n",
    "| AM | American Native | \n",
    "| PI | Pacific Islander | \n",
    "| not in Student Race table | Hispanic |"
   ]
  },
  {
   "cell_type": "markdown",
   "id": "36da0403",
   "metadata": {},
   "source": [
    "Appendix 1 Spec (06/2022 Document v22)\n",
    "\n",
    "| eIEPPRO Data Field | Powerschool Table Name | Details | \n",
    "| --- |--- |--- |\n",
    "| StateIDNumber | STUDENTS.State_StudentNumber | nvarchar (10) |\n",
    "| SISIDNumber   | STUDENTS.Student_Number      | nvarchar(9)   |\n",
    "| SchoolCode    | STUDENTS.SchoolID            | nvarchar(9)   |  \n",
    "| LastName      | STUDENTS.Last_Name           | nvarchar(40)  |\n",
    "| FirstName     | STUDENTS.First_Name          | nvarchar(25)  |\n",
    "| MiddleName    | STUDENTS.Middle_Name         | nvarchar(25)  |\n",
    "| DOB           | STUDENTS.DOB                 | smalldatetime |\n",
    "| Gender        | STUDENTS.Gender              | nvarchar(6)*  |  \n",
    "| Ethnicity_HI  | STUDENTS.Hispanic Y/N        | Yes: HI == 1 |\n",
    "| Ethnicity_AM  | STUDENTRACE.RaceCd == AM |--- |\n",
    "| Ethnicity_AS  | STUDENTRACE.RaceCd == AS |--- |\n",
    "| Ethnicity_BL  | STUDENTRACE.RaceCd == BL |--- |\n",
    "| Ethnicity_PI  | STUDENTRACE.RaceCd == PI |--- |\n",
    "| Ethnicity_WH  | STUDENTRACE.RaceCd == AM |--- |\n",
    "| Grade | STUDENTS.Grade_Level |--- |\n",
    "| Student Address #1          | STUDENTS.Mailing_Street     | Powerschool  ~ Street Address |\n",
    "| Student Address #2          | Students.Mailing_City, Mailing_State and Mailing_Zip     |  |\n",
    "| Student Physical Address ~ StudentPhyAddress  | STUDENTS.Street   | STUDENTS.Street |  \n",
    "| Student Phone #             | StudentPhone        | STUDENTS.Home_Phone |\n",
    "| Student E-Mail              | StudentEmail        | will not provide |\n",
    "| Parent #1 Name              | Parent1Name         | --- |\n",
    "| Parent #1 Address-1         | Parent1Address1     | Street Address |\n",
    "| Parent #1 Address-2         | Parent1Address2     | City, State and Zip Code |  \n",
    "| Parent #1 Home Phone        | Parent1HomePhone    | --- |\n",
    "| Parent #1 Work Phone        | Parent1WorkPhone    | --- |\n",
    "| Parent #1 Cell Phone        | Parent1CellPhone    | --- |\n",
    "| Parent #1 Relationship      | Parent1Relationship | --- |\n",
    "| Parent #1 Email             | Parent1Email        | --- |\n",
    "| Parent #2 Name              | Parent2Name         | --- |\n",
    "| Parent #2 Address-1         | Parent2Address1     | Street Address |\n",
    "| Parent #2 Address-2         | Parent2Address2     | City, State and Zip Code |  \n",
    "| Parent #2 Home Phone        | Parent2HomePhone    | --- |\n",
    "| Parent #2 Work Phone        | Parent2WorkPhone    | --- |\n",
    "| Parent #2 Cell Phone        | Parent2CellPhone    | --- |\n",
    "| Parent #2 Relationship      | Parent2Relationship | --- |\n",
    "| Parent #2 Email             | Parent2Email        | --- |\n",
    "| PrimaryLanguage | S_AZ_STU_X.spokenlanguage |--- |\n",
    "| HomeLanguage | S_AZ_STU_X.homelanguagecode |--- |\n",
    "| District of Residence | DOR |--- |\n",
    "| District of Attendance | DOA |--- |\n",
    "| Home School | HomeSchool |--- |\n",
    "| Attending School | AttendingSchool |--- |\n",
    "| Emergency Contact | EmergencyContact |--- |\n",
    "| Emergency Contact Phone | EmergencyContactPhone |--- |\n",
    "\n",
    "* Gender: AzEDS defined Gender values <br>\n",
    "* Students pulled based on ACTIVITIES.childfind504 == 1 or ACTIVITIES.childfindidea == 1 <br>\n",
    "S_AZ_STU_X.firstacquiredlanguage <br>\n",
    "S_AZ_STU_X.homelanguagecode is home language <br>\n",
    "S_AZ_STU_X.spokenlanguage is the same as primary language <br>\n"
   ]
  },
  {
   "cell_type": "markdown",
   "id": "2f4f317a",
   "metadata": {},
   "source": [
    "<H3> SIS Input Files: <br>"
   ]
  },
  {
   "cell_type": "code",
   "execution_count": null,
   "id": "b221ad38",
   "metadata": {},
   "outputs": [],
   "source": [
    "Students = pd.read_csv(\"Students_export.csv\", encoding='latin-1')\n",
    "StudentRaceAndEthnicity = pd.read_csv(\"StudentRace.csv\", encoding='latin-1')"
   ]
  },
  {
   "cell_type": "markdown",
   "id": "cbd766b9",
   "metadata": {},
   "source": [
    "<H3> Script Input Files: <br>"
   ]
  },
  {
   "cell_type": "code",
   "execution_count": null,
   "id": "95c8d15a",
   "metadata": {},
   "outputs": [],
   "source": [
    "# Leaving out for now\n",
    "# StudentContacts = pd.read_csv(\"StudentContactsBeta.csv\", encoding='latin-1')"
   ]
  },
  {
   "cell_type": "code",
   "execution_count": null,
   "id": "84576040",
   "metadata": {},
   "outputs": [],
   "source": [
    "# The e-IEPPRO spec has fields for parent addresses that our SIS doesn't export\n",
    "# StudentContacts"
   ]
  },
  {
   "cell_type": "markdown",
   "id": "39aa9365",
   "metadata": {},
   "source": [
    "<H5> All students with the flags for childfind504 and childfindidea are pulled in. These flags are to be kept on for the time that students have a 504 or IEP. <br>\n",
    "    \n",
    "<H4> Consider running tests to compare Flag population to Population at Large - compare numbers"
   ]
  },
  {
   "cell_type": "code",
   "execution_count": null,
   "id": "e01ab76d",
   "metadata": {},
   "outputs": [],
   "source": [
    "Students_504 = Students.loc[Students['ACTIVITIES.childfind504'] == 1] \n",
    "Students_and_idea = Students.loc[Students['ACTIVITIES.childfindidea'] == 1]"
   ]
  },
  {
   "cell_type": "code",
   "execution_count": null,
   "id": "10c412e0",
   "metadata": {},
   "outputs": [],
   "source": [
    "# 630 students on 01/03/23\n",
    "Students_504"
   ]
  },
  {
   "cell_type": "code",
   "execution_count": null,
   "id": "8895fc0b",
   "metadata": {},
   "outputs": [],
   "source": [
    "# 2056 students on 01/03\n",
    "Students_and_idea"
   ]
  },
  {
   "cell_type": "code",
   "execution_count": null,
   "id": "f67be783",
   "metadata": {},
   "outputs": [],
   "source": [
    "# Combine communities and drop duplicates\n",
    "df_504_id = pd.concat([Students_504, Students_and_idea], ignore_index=True).drop_duplicates()"
   ]
  },
  {
   "cell_type": "code",
   "execution_count": null,
   "id": "50f955a0",
   "metadata": {},
   "outputs": [],
   "source": [
    "# 2672 combined on 01/03\n",
    "df_504_id"
   ]
  },
  {
   "cell_type": "code",
   "execution_count": null,
   "id": "6e556814",
   "metadata": {},
   "outputs": [],
   "source": [
    "# Clean columns\n",
    "df_504_id.columns = df_504_id.columns.str.strip().str.lower().str.replace(' ', '_').str.replace('/', '')"
   ]
  },
  {
   "cell_type": "code",
   "execution_count": null,
   "id": "6d42e019",
   "metadata": {},
   "outputs": [],
   "source": [
    "# Create the dataframe for writing, column by column\n",
    "df_StudentData = df_504_id.filter(['students.state_studentnumber', \n",
    "                                  'students.student_number',\n",
    "                                  'students.id',\n",
    "                                  'students.schoolid',\n",
    "                                  'students.last_name',\n",
    "                                  'students.first_name',\n",
    "                                  'students.middle_name',\n",
    "                                  'students.dob',\n",
    "                                  'students.gender',\n",
    "                                  'hispanic_yn', #insert red data later                   \n",
    "                                  'students.grade_level',\n",
    "                                  'students.mailing_street',\n",
    "                                  'students.mailing_city',\n",
    "                                  'students.mailing_state',\n",
    "                                  'students.mailing_zip',\n",
    "                                  'students.street', # Using for physical street\n",
    "                                  'students.home_phone', #Considering inserting contrived email\n",
    "                                  's_az_stu_x.homelanguagecode',\n",
    "                                  's_az_stu_x.spokenlanguage',\n",
    "                                  'ell_alert',\n",
    "                                  '504_alert'\n",
    "                                 ])"
   ]
  },
  {
   "cell_type": "code",
   "execution_count": null,
   "id": "db8de1d1",
   "metadata": {},
   "outputs": [],
   "source": [
    "df_StudentData.set_index('students.student_number')"
   ]
  },
  {
   "cell_type": "code",
   "execution_count": null,
   "id": "c8674a6f",
   "metadata": {},
   "outputs": [],
   "source": [
    "df_StudentData"
   ]
  },
  {
   "cell_type": "code",
   "execution_count": null,
   "id": "82ba62f0",
   "metadata": {},
   "outputs": [],
   "source": [
    "df_StudentData.info()"
   ]
  },
  {
   "cell_type": "markdown",
   "id": "ee76f7eb",
   "metadata": {},
   "source": [
    "<H5> Transforming Columns"
   ]
  },
  {
   "cell_type": "code",
   "execution_count": null,
   "id": "18ef5a11",
   "metadata": {},
   "outputs": [],
   "source": [
    "# Clean data as appropriate\n",
    "# Turn State_StudentNumber to varchar\n",
    "# df[\"Fee\"]=df[\"Fee\"].values.astype('string')\n",
    "df_StudentData[\"stu_id\"]        = df_StudentData[\"students.id\"].values.astype('int')\n",
    "df_StudentData[\"StateIDNumber\"] = df_StudentData[\"students.state_studentnumber\"].values.astype('int')\n",
    "df_StudentData[\"SISIDNumber\"]   = df_StudentData[\"students.state_studentnumber\"].values.astype('int') # as requested\n",
    "df_StudentData[\"SchoolCode\"]    = df_StudentData[\"students.schoolid\"].values.astype('int')\n",
    "df_StudentData[\"LastName\"]      = df_StudentData[\"students.last_name\"]\n",
    "df_StudentData[\"FirstName\"]     = df_StudentData[\"students.first_name\"]\n",
    "df_StudentData[\"MiddleName\"]    = df_StudentData[\"students.middle_name\"]\n",
    "df_StudentData[\"DOB\"]           = pd.to_datetime(df_StudentData[\"students.dob\"])\n",
    "df_StudentData[\"Gender\"]        = df_StudentData[\"students.gender\"]\n",
    "df_StudentData[\"Ethnicity_HI\"]  = df_StudentData[\"hispanic_yn\"]\n",
    "# Break to insert RED Data\n",
    "\n",
    "df_StudentData[\"Grade\"]           = df_StudentData[\"students.grade_level\"].values.astype('int')\n",
    "df_StudentData[\"StudentAddress1\"] = df_StudentData[\"students.mailing_street\"]\n",
    "df_StudentData[\"StudentAddress2\"] = df_StudentData['students.mailing_city'].astype(str) + ', ' + df_StudentData['students.mailing_state'] + ', ' + df_StudentData['students.mailing_zip']\n",
    "df_StudentData[\"StudentPhyAddress\"] = df_StudentData[\"students.street\"]\n",
    "df_StudentData[\"StudentPhone\"]      = df_StudentData[\"students.home_phone\"]\n",
    "df_StudentData[\"StudentEMail\"]      = \"\"\n",
    "\n",
    "# Insert Parent Contact Data\n",
    "df_StudentData[\"Parent1Name\"]              = \"\"\n",
    "df_StudentData[\"Parent1Address1\"]          = \"\"\n",
    "df_StudentData[\"Parent1Address2\"]          = \"\"\n",
    "df_StudentData[\"Parent1HomePhone\"]         = \"\"\n",
    "df_StudentData[\"Parent1WorkPhone\"]         = \"\"\n",
    "df_StudentData[\"Parent1CellPhone\"]         = \"\"\n",
    "df_StudentData[\"Parent1Relationship\"]      = \"\"\n",
    "df_StudentData[\"Parent1Email\"]             = \"\"\n",
    "df_StudentData[\"Parent2Name\"]              = \"\"\n",
    "df_StudentData[\"Parent2Address1\"]          = \"\"\n",
    "df_StudentData[\"Parent2Address2\"]          = \"\"\n",
    "df_StudentData[\"Parent2HomePhone\"]         = \"\"\n",
    "df_StudentData[\"Parent2WorkPhone\"]         = \"\"\n",
    "df_StudentData[\"Parent2CellPhone\"]         = \"\"\n",
    "df_StudentData[\"Parent2Relationship\"]      = \"\"\n",
    "df_StudentData[\"Parent2Email\"]             = \"\"\n",
    "\n",
    "df_StudentData['VisionTestDate'] = \"\"\n",
    "df_StudentData['HearingTestDate'] = \"\"\n",
    "df_StudentData['PrimaryLangTestDate'] = \"\"\n",
    "df_StudentData['VisionTestResults'] = \"\"\n",
    "df_StudentData['HearingTestResults'] = \"\"\n",
    "df_StudentData['PrimaryLangTestResults'] = \"\"\n",
    "df_StudentData['AZELLATestDate'] = \"\"\n",
    "df_StudentData['AZELLATestResults'] = \"\"\n",
    "\n",
    "df_StudentData[\"PrimaryLanguage\"]  = df_StudentData[\"s_az_stu_x.spokenlanguage\"] #.values.astype('str') # clearing out int to see what happens\n",
    "df_StudentData[\"HomeLanguage\"]     = df_StudentData[\"s_az_stu_x.homelanguagecode\"] # .values.astype('int')\n",
    "\n"
   ]
  },
  {
   "cell_type": "markdown",
   "id": "b8a34214",
   "metadata": {},
   "source": [
    "<H5> Primary and Home Language Transformations:"
   ]
  },
  {
   "cell_type": "code",
   "execution_count": null,
   "id": "cba99f88",
   "metadata": {},
   "outputs": [],
   "source": [
    "transform_language = {\n",
    "    0:   'English', \n",
    "    1:   'Spanish', \n",
    "    2:   'Arabic', \n",
    "    3:   'Cambodian', \n",
    "    4:   'Cantonese', \n",
    "    5:   'Czechoslovakian', \n",
    "    6:   'Dutch', \n",
    "    7:   'Filipino', \n",
    "    8:   'Finnish', \n",
    "    9:   'French', \n",
    "    10:   'German', \n",
    "    11:   'Greek', \n",
    "    12:   'Hebrew', \n",
    "    13:   'Hungarian', \n",
    "    14:   'Italian', \n",
    "    15:   'Japanese', \n",
    "    16:   'Korean', \n",
    "    17:   'Laotian', \n",
    "    18:   'Mandarin', \n",
    "    19:   'Polish', \n",
    "    20:   'Portuguese', \n",
    "    21:   'Romanian', \n",
    "    22:   'Russian', \n",
    "    23:   'Thai', \n",
    "    24:   'Ukrainian', \n",
    "    25:   'Vietnamese', \n",
    "    26:   'Serbo-Croatian', \n",
    "    27:   'Other Non-Indian', \n",
    "    28:   'Navajo', \n",
    "    29:   'Apache (San Carlos)', \n",
    "    30:   'Apache (Whiteriver)', \n",
    "    31:   'Chemehuevi', \n",
    "    32:   'Cocopah', \n",
    "    33:   'Hopi', \n",
    "    34:   'Haulapai', \n",
    "    35:   'Kaibab-Paiute', \n",
    "    36:   'Maricopa', \n",
    "    37:   'Mohave', \n",
    "    38:   'Papago (Tohono Oodham)',\n",
    "    39:   'Pima (Akimel Oodhman)',\n",
    "    40:   'Supai', \n",
    "    41:   'Tewa', \n",
    "    42:   'Yaqui', \n",
    "    43:   'Yavapai', \n",
    "    44:   'Yuma', \n",
    "    45:   'Other Indian', \n",
    "    46:   'American Sign Language',\n",
    "    47:   'Albanian', \n",
    "    48:   'Amharic', \n",
    "    49:   'Azeri', \n",
    "    50:   'Burmese', \n",
    "    51:   'Dari', \n",
    "    52:   'Dinka', \n",
    "    53:   'Farsi', \n",
    "    54:   'Kirundi', \n",
    "    55:   'Kru', \n",
    "    56:   'Lingala', \n",
    "    57:   'Maay', \n",
    "    58:   'Mandingo', \n",
    "    59:   'Nuer', \n",
    "    60:   'Pashto', \n",
    "    61:   'Serbian', \n",
    "    62:   'Somali', \n",
    "    63:   'Sawhili', \n",
    "    64:   'Tagalog', \n",
    "    65:   'Urdu', \n",
    "    66:   'Uzbek', \n",
    "    67:   'Vai', \n",
    "    68:   'Afrikaans', \n",
    "    69:   'Bengali', \n",
    "    70:   'Hindi', \n",
    "    71:   'Persian', \n",
    "    72:   'Punjabi', \n",
    "    73:   'Cherokee', \n",
    "    74:   'Armenian', \n",
    "    75:   'Bosnian', \n",
    "    76:   'Central Khmer', \n",
    "    77:   'Chuukese', \n",
    "    78:   'Gujarati', \n",
    "    79:   'Haitian; Haitian Creole', \n",
    "    80:   'Hmong; Mong', \n",
    "    81:   'Karen Languages', \n",
    "    82:   'Lao', \n",
    "    83:   'Malayalam', \n",
    "    84:   'Marshallese', \n",
    "    85:   'Nepali', \n",
    "    86:   'Otomian languages', \n",
    "    87:   'Samoan', \n",
    "    88:   'Tamil', \n",
    "    89:   'Telugu', \n",
    "    90:   'Tigrinya', \n",
    "    91:   'Turkish', \n",
    "    92:   'undeclared', \n",
    "    93:   'Twi', \n",
    "    94:   'Yupik languages'\n",
    "}\n",
    "\n",
    "df_StudentData[\"PrimaryLanguage\"] = df_StudentData[\"PrimaryLanguage\"].map(transform_language)\n",
    "df_StudentData[\"HomeLanguage\"] = df_StudentData[\"HomeLanguage\"].map(transform_language)"
   ]
  },
  {
   "cell_type": "markdown",
   "id": "f2d96268",
   "metadata": {},
   "source": [
    "<H5> District Transformations: <br>\n",
    "District of Residence & Attendance: based on School ID, but LOA gets Surprise (double check)"
   ]
  },
  {
   "cell_type": "code",
   "execution_count": null,
   "id": "7cd79879",
   "metadata": {},
   "outputs": [],
   "source": [
    "df_StudentData['SchoolCode'].value_counts()"
   ]
  },
  {
   "cell_type": "code",
   "execution_count": null,
   "id": "61a769f9",
   "metadata": {},
   "outputs": [],
   "source": [
    "transform_schoolID = {\n",
    "    100: 'Legacy Traditional School - Maricopa',\n",
    "    150: 'Legacy Traditional School - Casa Grande',\n",
    "    200: 'Legacy Traditional School - Queen Creek',\n",
    "    250: 'Legacy Traditional School - Avondale',\n",
    "    300: 'Legacy Traditional School - Chandler',\n",
    "    350: 'Legacy Traditional School - NW Tucson',\n",
    "    400: 'Legacy Traditional School - Laveen',\n",
    "    450: 'Legacy Traditional School - Gilbert',\n",
    "    500: 'Legacy Traditional School - Surprise',\n",
    "    550: 'Legacy Traditional School - North Chandler',\n",
    "    600: 'Legacy Traditional School - Glendale',\n",
    "    650: 'Legacy Traditional School - Peoria',\n",
    "    700: 'Legacy Traditional School - East Mesa',\n",
    "    750: 'Legacy Traditional School - Phoenix',\n",
    "    800: 'Legacy Traditional School - Goodyear',\n",
    "    850: 'Legacy Traditional School - North Phoenix',\n",
    "    900: 'Legacy Traditional School - West Surprise',\n",
    "    950: 'Legacy Traditional School - East Tucson',\n",
    "    1000: 'Legacy Traditional School - Deer Valley',\n",
    "    1050: 'Legacy Traditional School - Mesa',\n",
    "    1100: 'Legacy Online Academy', \n",
    "    1150: 'Legacy Traditional School - San Tan'\n",
    "}\n",
    "\n",
    "# Home School and Attending School his is where LOA stays LOA - plus students that are exceptions to the rule?\n",
    "df_StudentData['HomeSchool'] = df_StudentData['SchoolCode'].map(transform_schoolID)\n",
    "df_StudentData['AttendingSchool'] = df_StudentData['SchoolCode'].map(transform_schoolID)\n"
   ]
  },
  {
   "cell_type": "code",
   "execution_count": null,
   "id": "c98745a9",
   "metadata": {},
   "outputs": [],
   "source": [
    "# This where LOA should get Surprise data\n",
    "# District of Residence and District of Attendance, for all LOA students, is Surprise\n",
    "# Home School and Attending School keep LOA intact\n",
    "df_StudentData['DOR_1'] = df_StudentData['SchoolCode']\n",
    "df_StudentData['DOA_1'] = df_StudentData['SchoolCode']\n",
    "\n",
    "# data[\"Age\"]= data[\"Age\"].replace(25.0, \"Twenty five\")\n",
    "df_StudentData['DOR_2'] = df_StudentData['DOR_1'].replace(1100, 500)\n",
    "df_StudentData['DOA_2'] = df_StudentData['DOR_1'].replace(1100, 500)\n",
    "\n",
    "transform_schoolID = {\n",
    "    100: 'Legacy Traditional School - Maricopa',\n",
    "    150: 'Legacy Traditional School - Casa Grande',\n",
    "    200: 'Legacy Traditional School - Queen Creek',\n",
    "    250: 'Legacy Traditional School - Avondale',\n",
    "    300: 'Legacy Traditional School - Chandler',\n",
    "    350: 'Legacy Traditional School - NW Tucson',\n",
    "    400: 'Legacy Traditional School - Laveen',\n",
    "    450: 'Legacy Traditional School - Gilbert',\n",
    "    500: 'Legacy Traditional School - Surprise',\n",
    "    550: 'Legacy Traditional School - North Chandler',\n",
    "    600: 'Legacy Traditional School - Glendale',\n",
    "    650: 'Legacy Traditional School - Peoria',\n",
    "    700: 'Legacy Traditional School - East Mesa',\n",
    "    750: 'Legacy Traditional School - Phoenix',\n",
    "    800: 'Legacy Traditional School - Goodyear',\n",
    "    850: 'Legacy Traditional School - North Phoenix',\n",
    "    900: 'Legacy Traditional School - West Surprise',\n",
    "    950: 'Legacy Traditional School - East Tucson',\n",
    "    1000: 'Legacy Traditional School - Deer Valley',\n",
    "    1050: 'Legacy Traditional School - Mesa',\n",
    "    1100: 'Legacy Online Academy', \n",
    "    1150: 'Legacy Traditional School - San Tan'\n",
    "}\n",
    "\n",
    "# Home School and Attending School his is where LOA stays LOA - plus students that are exceptions to the rule?\n",
    "\n",
    "df_StudentData['DOR'] = df_StudentData['DOR_2'].map(transform_schoolID)\n",
    "df_StudentData['DOA'] = df_StudentData['DOA_2'].map(transform_schoolID)"
   ]
  },
  {
   "cell_type": "code",
   "execution_count": null,
   "id": "e166e859",
   "metadata": {},
   "outputs": [],
   "source": [
    "df_StudentData['DOA'].value_counts()"
   ]
  },
  {
   "cell_type": "code",
   "execution_count": null,
   "id": "dfc4dab4",
   "metadata": {},
   "outputs": [],
   "source": [
    "df_StudentData['DOR'].value_counts()"
   ]
  },
  {
   "cell_type": "code",
   "execution_count": null,
   "id": "7d8df02e",
   "metadata": {},
   "outputs": [],
   "source": [
    "df_StudentData['EmergencyContact'] = ''\n",
    "df_StudentData['EmergencyContactPhone'] = ''"
   ]
  },
  {
   "cell_type": "markdown",
   "id": "4551c9f9",
   "metadata": {},
   "source": [
    "<H4> Last Fields from Schools_Export - these students should have ChildFing Flags preserved: <br>\n",
    "    * 504Student (comes from '504 Alert'), comes in as Y, translate to 1 <br> \n",
    "    * EL Student (comes from 'ELL Alert') <br>"
   ]
  },
  {
   "cell_type": "code",
   "execution_count": null,
   "id": "88a9c379",
   "metadata": {},
   "outputs": [],
   "source": [
    "# sampleDF.housing.replace(('yes', 'no'), (1, 0), inplace=True)\n",
    "df_StudentData[\"504Student\"]       = df_StudentData['504_alert']\n",
    "df_StudentData['504Student'].replace(('Y', ''), (1, 0), inplace=True)"
   ]
  },
  {
   "cell_type": "code",
   "execution_count": null,
   "id": "bc14ca58",
   "metadata": {},
   "outputs": [],
   "source": [
    "df_StudentData[\"ELStudent\"]        = df_StudentData['ell_alert']"
   ]
  },
  {
   "cell_type": "markdown",
   "id": "6d4e2f7c",
   "metadata": {},
   "source": [
    "<H3> Student Race and Ethnicity data <br>\n",
    "<H5> HI, AM, AS, BL, PI, WH must be converted to 1 = YES or 0 = No values, per student <br>\n",
    "    based on STUDENTRACE.StudentID <br>\n",
    "    STUDENTS.ID == STUDENTRACE.StudentID <br>"
   ]
  },
  {
   "cell_type": "code",
   "execution_count": null,
   "id": "7995ff98",
   "metadata": {},
   "outputs": [],
   "source": [
    "# Create dataframe - this version works!\n",
    "def BuildRaceMatrix8( df_StudentRace ):\n",
    "    global df_RED\n",
    "    df_RED = pd.DataFrame()\n",
    "    \"\"\" Create a counter for each student ID \"\"\"\n",
    "    for index, row in df_StudentRace.iterrows():\n",
    "        student_ID = row['STUDENTRACE.StudentID']\n",
    "        race_data = row['STUDENTRACE.RaceCd']\n",
    "        df_RED.at[index, 'stu_id'] = student_ID\n",
    "        \n",
    "        match race_data:\n",
    "            case 'AM':\n",
    "                df_RED.at[index, 'Ethnicity_AM'] = 1\n",
    "            case 'AS':\n",
    "                df_RED.at[index, 'Ethnicity_AS'] = 1\n",
    "            case 'BL':\n",
    "                df_RED.at[index, 'Ethnicity_BL'] = 1\n",
    "            case 'PI':\n",
    "                df_RED.at[index, 'Ethnicity_PI'] = 1\n",
    "            case 'WH':\n",
    "                df_RED.at[index, 'Ethnicity_WH'] = 1\n",
    "    return df_RED"
   ]
  },
  {
   "cell_type": "code",
   "execution_count": null,
   "id": "98daf5b5",
   "metadata": {},
   "outputs": [],
   "source": [
    "testRed3 = BuildRaceMatrix8(StudentRaceAndEthnicity).fillna(0).astype(int)"
   ]
  },
  {
   "cell_type": "code",
   "execution_count": null,
   "id": "0d566a8c",
   "metadata": {},
   "outputs": [],
   "source": [
    "df_pivot = pd.pivot_table(testRed3, values=['stu_id', 'Ethnicity_AS', 'Ethnicity_WH', 'Ethnicity_BL', 'Ethnicity_AM', 'Ethnicity_PI'], index=['stu_id'], aggfunc=np.sum, margins=True)"
   ]
  },
  {
   "cell_type": "code",
   "execution_count": null,
   "id": "fa7ae92b",
   "metadata": {},
   "outputs": [],
   "source": [
    "df_Pivot_plus_StudentData = df_StudentData.join(df_pivot, on='stu_id')"
   ]
  },
  {
   "cell_type": "markdown",
   "id": "ea442ea6",
   "metadata": {},
   "source": [
    "<H5> Bring in Student Contacts"
   ]
  },
  {
   "cell_type": "code",
   "execution_count": null,
   "id": "0508de08",
   "metadata": {},
   "outputs": [],
   "source": [
    "df_Pivot_plus_StudentData.info()"
   ]
  },
  {
   "cell_type": "markdown",
   "id": "04563be3",
   "metadata": {},
   "source": [
    "<H4> The dataframe that will be uploaded - with blank fields"
   ]
  },
  {
   "cell_type": "code",
   "execution_count": null,
   "id": "75433e40",
   "metadata": {},
   "outputs": [],
   "source": [
    "df_write = df_Pivot_plus_StudentData[['StateIDNumber', 'SISIDNumber', 'SchoolCode', 'LastName', 'FirstName', 'MiddleName',\n",
    "                                      'DOB','Gender', 'Ethnicity_HI', 'Ethnicity_AM', 'Ethnicity_AS', 'Ethnicity_BL', 'Ethnicity_PI', 'Ethnicity_WH', 'Grade', 'StudentAddress1',\n",
    "                                      'StudentAddress2', 'StudentPhyAddress', 'StudentPhone', 'StudentEMail', 'Parent1Name', 'Parent1Address1', 'Parent1Address2',\n",
    "                                      'Parent1HomePhone', 'Parent1WorkPhone', 'Parent1CellPhone', 'Parent1Relationship', 'Parent1Email',\n",
    "                                      'Parent2Name', 'Parent2Address1', 'Parent2Address2',\n",
    "                                      'Parent2HomePhone', 'Parent2WorkPhone', 'Parent2CellPhone', 'Parent2Relationship', 'Parent2Email',\n",
    "                                      'PrimaryLanguage', 'HomeLanguage', 'DOR', 'DOA', 'HomeSchool', 'AttendingSchool', 'EmergencyContact', \n",
    "                                      'EmergencyContactPhone', 'VisionTestDate', 'HearingTestDate', 'PrimaryLangTestDate', 'VisionTestResults', 'HearingTestResults',\n",
    "                                      'PrimaryLangTestResults', 'AZELLATestDate', 'AZELLATestResults',\n",
    "                                      '504Student', 'ELStudent'\n",
    "                                     ]]"
   ]
  },
  {
   "cell_type": "markdown",
   "id": "ea4813fb",
   "metadata": {},
   "source": [
    "<H4> The dataframe that will be validated - no blanks"
   ]
  },
  {
   "cell_type": "code",
   "execution_count": null,
   "id": "e6b27c0d",
   "metadata": {},
   "outputs": [],
   "source": [
    "df_write_noblanks = df_Pivot_plus_StudentData[['StateIDNumber', 'SISIDNumber', 'SchoolCode', 'LastName', 'FirstName', 'MiddleName',\n",
    "                                      'DOB','Gender', 'Ethnicity_HI', 'Ethnicity_AM', 'Ethnicity_AS', 'Ethnicity_BL', 'Ethnicity_PI', 'Ethnicity_WH', 'Grade', 'StudentAddress1',\n",
    "                                      'StudentAddress2', 'StudentPhyAddress', 'StudentPhone', \n",
    "                                      'PrimaryLanguage', 'HomeLanguage', 'DOR', 'DOA', 'HomeSchool', 'AttendingSchool', \n",
    "                                      '504Student', 'ELStudent'\n",
    "                                     ]]"
   ]
  },
  {
   "cell_type": "code",
   "execution_count": null,
   "id": "d76bdf4c",
   "metadata": {},
   "outputs": [],
   "source": [
    "df_write_noblanks.info()"
   ]
  },
  {
   "cell_type": "code",
   "execution_count": null,
   "id": "5ca961f7",
   "metadata": {
    "scrolled": true
   },
   "outputs": [],
   "source": [
    "df_write.info()"
   ]
  },
  {
   "cell_type": "markdown",
   "id": "18cdf8d2",
   "metadata": {},
   "source": [
    "<H1> Lastly, Encapsulate Strings with quotes, Fill in NaN values with 0"
   ]
  },
  {
   "cell_type": "code",
   "execution_count": null,
   "id": "c3726937",
   "metadata": {},
   "outputs": [],
   "source": [
    "df_write.to_csv('IEPPRO_Draft_forUpload.csv', sep='|', index=False, encoding='utf-8')"
   ]
  },
  {
   "cell_type": "code",
   "execution_count": null,
   "id": "ed4b8e7d",
   "metadata": {},
   "outputs": [],
   "source": [
    "df_write_noblanks.to_csv('IEPPRO_DataToValidate.csv', sep='|', index=False, encoding='utf-8')"
   ]
  },
  {
   "cell_type": "code",
   "execution_count": null,
   "id": "67926085",
   "metadata": {},
   "outputs": [],
   "source": []
  }
 ],
 "metadata": {
  "kernelspec": {
   "display_name": "Python 3 (ipykernel)",
   "language": "python",
   "name": "python3"
  },
  "language_info": {
   "codemirror_mode": {
    "name": "ipython",
    "version": 3
   },
   "file_extension": ".py",
   "mimetype": "text/x-python",
   "name": "python",
   "nbconvert_exporter": "python",
   "pygments_lexer": "ipython3",
   "version": "3.10.5"
  }
 },
 "nbformat": 4,
 "nbformat_minor": 5
}
