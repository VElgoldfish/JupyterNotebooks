{
 "cells": [
  {
   "cell_type": "code",
   "execution_count": 1,
   "id": "5c2e3efa",
   "metadata": {},
   "outputs": [],
   "source": [
    "import pandas as pd\n",
    "import numpy as np\n",
    "from io import StringIO\n",
    "from datetime import datetime as dt\n",
    "import math"
   ]
  },
  {
   "cell_type": "markdown",
   "id": "70c532c4",
   "metadata": {},
   "source": [
    "<H4> Looking for materials: Science, Reading, Grammar/Writing, data for each subject by school"
   ]
  },
  {
   "cell_type": "code",
   "execution_count": 2,
   "id": "89d3d574",
   "metadata": {},
   "outputs": [
    {
     "name": "stderr",
     "output_type": "stream",
     "text": [
      "C:\\Users\\lauren.goldfish\\Anaconda3\\lib\\site-packages\\IPython\\core\\interactiveshell.py:3444: DtypeWarning: Columns (26) have mixed types.Specify dtype option on import or set low_memory=False.\n",
      "  exec(code_obj, self.user_global_ns, self.user_ns)\n"
     ]
    }
   ],
   "source": [
    "df_April25 = pd.read_csv(\"MarchApril.csv\", encoding='latin-1')"
   ]
  },
  {
   "cell_type": "code",
   "execution_count": null,
   "id": "f7fdcb27",
   "metadata": {},
   "outputs": [],
   "source": [
    "# , format = '%m%d%Y'"
   ]
  },
  {
   "cell_type": "code",
   "execution_count": 3,
   "id": "28a5a707",
   "metadata": {},
   "outputs": [
    {
     "name": "stdout",
     "output_type": "stream",
     "text": [
      "<class 'pandas.core.frame.DataFrame'>\n",
      "RangeIndex: 1435063 entries, 0 to 1435062\n",
      "Data columns (total 35 columns):\n",
      " #   Column                Non-Null Count    Dtype  \n",
      "---  ------                --------------    -----  \n",
      " 0   role_name             1435063 non-null  object \n",
      " 1   user_building_id      1435063 non-null  int64  \n",
      " 2   user_building_name    1435063 non-null  object \n",
      " 3   username              1435063 non-null  object \n",
      " 4   email                 1435026 non-null  object \n",
      " 5   schoology_user_id     1435063 non-null  int64  \n",
      " 6   unique_user_id        1430105 non-null  object \n",
      " 7   action_type           1435063 non-null  object \n",
      " 8   item_type             1435063 non-null  object \n",
      " 9   item_id               1316085 non-null  float64\n",
      " 10  item_name             1313046 non-null  object \n",
      " 11  course_name           1255642 non-null  object \n",
      " 12  course_code           1240922 non-null  object \n",
      " 13  section_name          1255642 non-null  object \n",
      " 14  last_event_timestamp  1435063 non-null  object \n",
      " 15  event_count           1435063 non-null  int64  \n",
      " 16  role_id               1435063 non-null  int64  \n",
      " 17  user_building_code    0 non-null        float64\n",
      " 18  last_name             1435063 non-null  object \n",
      " 19  first_name            1435063 non-null  object \n",
      " 20  device_type           1435063 non-null  object \n",
      " 21  item_building_id      1434947 non-null  float64\n",
      " 22  item_building_name    1434947 non-null  object \n",
      " 23  item_building_code    0 non-null        float64\n",
      " 24  item_parent_type      1435063 non-null  object \n",
      " 25  group_id              34828 non-null    float64\n",
      " 26  group_name            34828 non-null    object \n",
      " 27  course_id             1255642 non-null  float64\n",
      " 28  section_id            1255642 non-null  float64\n",
      " 29  section_school_code   1240808 non-null  float64\n",
      " 30  section_code          108 non-null      float64\n",
      " 31  month                 1435063 non-null  int64  \n",
      " 32  date                  1435063 non-null  object \n",
      " 33  timestamp             1435063 non-null  object \n",
      " 34  time spent (seconds)  51363 non-null    float64\n",
      "dtypes: float64(10), int64(5), object(20)\n",
      "memory usage: 383.2+ MB\n"
     ]
    }
   ],
   "source": [
    "df_April25.info()"
   ]
  },
  {
   "cell_type": "code",
   "execution_count": 6,
   "id": "f8364f60",
   "metadata": {},
   "outputs": [],
   "source": [
    "df_April25['date'] = pd.to_datetime(df_April25['date'])"
   ]
  },
  {
   "cell_type": "code",
   "execution_count": 8,
   "id": "383ff5c1",
   "metadata": {},
   "outputs": [],
   "source": [
    "df_Feb28 = df_April25[df_April25['date'].dt.strftime('%Y-%m-%d') == '2022-02-28']"
   ]
  },
  {
   "cell_type": "code",
   "execution_count": 9,
   "id": "0e085f1b",
   "metadata": {},
   "outputs": [],
   "source": [
    "df_Feb28.to_csv('SchoologyData_02_28_2022.csv', index=False, encoding='utf-8')"
   ]
  },
  {
   "cell_type": "code",
   "execution_count": null,
   "id": "9e1ad7fc",
   "metadata": {},
   "outputs": [],
   "source": [
    "df_April25['date'].min()"
   ]
  },
  {
   "cell_type": "code",
   "execution_count": null,
   "id": "89233a62",
   "metadata": {},
   "outputs": [],
   "source": [
    "df_April25['date'].max()"
   ]
  },
  {
   "cell_type": "code",
   "execution_count": null,
   "id": "1c24dcc0",
   "metadata": {},
   "outputs": [],
   "source": [
    "df_FA_write = df_April25.head(500)"
   ]
  },
  {
   "cell_type": "code",
   "execution_count": null,
   "id": "2bb707d9",
   "metadata": {},
   "outputs": [],
   "source": [
    "df_FA_write['date']"
   ]
  },
  {
   "cell_type": "code",
   "execution_count": null,
   "id": "177fd06c",
   "metadata": {},
   "outputs": [],
   "source": [
    "df_FA_write"
   ]
  },
  {
   "cell_type": "code",
   "execution_count": null,
   "id": "130ddcac",
   "metadata": {},
   "outputs": [],
   "source": [
    "df_FA_write.to_csv('Schoology_Export.csv', index=False, encoding='utf-8')"
   ]
  },
  {
   "cell_type": "markdown",
   "id": "51340b76",
   "metadata": {},
   "source": [
    "<H5> Whittle down to required fields"
   ]
  },
  {
   "cell_type": "code",
   "execution_count": null,
   "id": "3e0729fa",
   "metadata": {},
   "outputs": [],
   "source": [
    "df_SeemsActivityish = df_April25.filter(['item_type', 'item_name', 'course_name'])"
   ]
  },
  {
   "cell_type": "code",
   "execution_count": null,
   "id": "96aab94e",
   "metadata": {},
   "outputs": [],
   "source": [
    "df_SeemsActivityish"
   ]
  },
  {
   "cell_type": "code",
   "execution_count": null,
   "id": "cf277fb0",
   "metadata": {},
   "outputs": [],
   "source": [
    "df_SeemsActivityish.to_csv('RelevantCourseInfo.csv', index=False, encoding='utf-8')"
   ]
  }
 ],
 "metadata": {
  "kernelspec": {
   "display_name": "Python 3 (ipykernel)",
   "language": "python",
   "name": "python3"
  },
  "language_info": {
   "codemirror_mode": {
    "name": "ipython",
    "version": 3
   },
   "file_extension": ".py",
   "mimetype": "text/x-python",
   "name": "python",
   "nbconvert_exporter": "python",
   "pygments_lexer": "ipython3",
   "version": "3.9.7"
  }
 },
 "nbformat": 4,
 "nbformat_minor": 5
}
